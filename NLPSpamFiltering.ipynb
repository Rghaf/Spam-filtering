{
 "cells": [
  {
   "cell_type": "markdown",
   "metadata": {
    "id": "_iCNNhk9BLC0"
   },
   "source": [
    "# Import Libraries"
   ]
  },
  {
   "cell_type": "code",
   "execution_count": 1,
   "metadata": {
    "executionInfo": {
     "elapsed": 1100,
     "status": "ok",
     "timestamp": 1639044231895,
     "user": {
      "displayName": "Reza Ghadiri",
      "photoUrl": "https://lh3.googleusercontent.com/a/default-user=s64",
      "userId": "16694779595683558205"
     },
     "user_tz": -210
    },
    "id": "Q5D-gyvE_8nK"
   },
   "outputs": [],
   "source": [
    "%matplotlib inline\n",
    "import numpy as np\n",
    "import pandas as pd\n",
    "import matplotlib.pyplot as plt\n",
    "import seaborn as sns\n",
    "import sklearn\n",
    "import nltk\n",
    "import pycaret"
   ]
  },
  {
   "cell_type": "markdown",
   "metadata": {
    "id": "eWY_RmuWFB6A"
   },
   "source": [
    "# Read the data and EDA"
   ]
  },
  {
   "cell_type": "code",
   "execution_count": 2,
   "metadata": {
    "colab": {
     "base_uri": "https://localhost:8080/",
     "height": 206
    },
    "executionInfo": {
     "elapsed": 962,
     "status": "ok",
     "timestamp": 1639044238023,
     "user": {
      "displayName": "Reza Ghadiri",
      "photoUrl": "https://lh3.googleusercontent.com/a/default-user=s64",
      "userId": "16694779595683558205"
     },
     "user_tz": -210
    },
    "id": "dEXFwr73AmcH",
    "outputId": "8b954832-e86d-486b-ff72-9a1e760d7ef0"
   },
   "outputs": [
    {
     "data": {
      "text/html": [
       "<div>\n",
       "<style scoped>\n",
       "    .dataframe tbody tr th:only-of-type {\n",
       "        vertical-align: middle;\n",
       "    }\n",
       "\n",
       "    .dataframe tbody tr th {\n",
       "        vertical-align: top;\n",
       "    }\n",
       "\n",
       "    .dataframe thead th {\n",
       "        text-align: right;\n",
       "    }\n",
       "</style>\n",
       "<table border=\"1\" class=\"dataframe\">\n",
       "  <thead>\n",
       "    <tr style=\"text-align: right;\">\n",
       "      <th></th>\n",
       "      <th>0</th>\n",
       "      <th>1</th>\n",
       "    </tr>\n",
       "  </thead>\n",
       "  <tbody>\n",
       "    <tr>\n",
       "      <th>0</th>\n",
       "      <td>ham</td>\n",
       "      <td>Go until jurong point, crazy.. Available only ...</td>\n",
       "    </tr>\n",
       "    <tr>\n",
       "      <th>1</th>\n",
       "      <td>ham</td>\n",
       "      <td>Ok lar... Joking wif u oni...</td>\n",
       "    </tr>\n",
       "    <tr>\n",
       "      <th>2</th>\n",
       "      <td>spam</td>\n",
       "      <td>Free entry in 2 a wkly comp to win FA Cup fina...</td>\n",
       "    </tr>\n",
       "    <tr>\n",
       "      <th>3</th>\n",
       "      <td>ham</td>\n",
       "      <td>U dun say so early hor... U c already then say...</td>\n",
       "    </tr>\n",
       "    <tr>\n",
       "      <th>4</th>\n",
       "      <td>ham</td>\n",
       "      <td>Nah I don't think he goes to usf, he lives aro...</td>\n",
       "    </tr>\n",
       "  </tbody>\n",
       "</table>\n",
       "</div>"
      ],
      "text/plain": [
       "      0                                                  1\n",
       "0   ham  Go until jurong point, crazy.. Available only ...\n",
       "1   ham                      Ok lar... Joking wif u oni...\n",
       "2  spam  Free entry in 2 a wkly comp to win FA Cup fina...\n",
       "3   ham  U dun say so early hor... U c already then say...\n",
       "4   ham  Nah I don't think he goes to usf, he lives aro..."
      ]
     },
     "execution_count": 2,
     "metadata": {},
     "output_type": "execute_result"
    }
   ],
   "source": [
    "dataset = pd.read_table(\"/home/rghaf/Desktop/Uni/NLP/SMSSpamCollection\", header = None, encoding = 'utf8')\n",
    "dataset.head()"
   ]
  },
  {
   "cell_type": "code",
   "execution_count": 3,
   "metadata": {},
   "outputs": [
    {
     "data": {
      "text/html": [
       "<div>\n",
       "<style scoped>\n",
       "    .dataframe tbody tr th:only-of-type {\n",
       "        vertical-align: middle;\n",
       "    }\n",
       "\n",
       "    .dataframe tbody tr th {\n",
       "        vertical-align: top;\n",
       "    }\n",
       "\n",
       "    .dataframe thead th {\n",
       "        text-align: right;\n",
       "    }\n",
       "</style>\n",
       "<table border=\"1\" class=\"dataframe\">\n",
       "  <thead>\n",
       "    <tr style=\"text-align: right;\">\n",
       "      <th></th>\n",
       "      <th>Status</th>\n",
       "      <th>Text</th>\n",
       "    </tr>\n",
       "  </thead>\n",
       "  <tbody>\n",
       "    <tr>\n",
       "      <th>0</th>\n",
       "      <td>ham</td>\n",
       "      <td>Go until jurong point, crazy.. Available only ...</td>\n",
       "    </tr>\n",
       "    <tr>\n",
       "      <th>1</th>\n",
       "      <td>ham</td>\n",
       "      <td>Ok lar... Joking wif u oni...</td>\n",
       "    </tr>\n",
       "    <tr>\n",
       "      <th>2</th>\n",
       "      <td>spam</td>\n",
       "      <td>Free entry in 2 a wkly comp to win FA Cup fina...</td>\n",
       "    </tr>\n",
       "    <tr>\n",
       "      <th>3</th>\n",
       "      <td>ham</td>\n",
       "      <td>U dun say so early hor... U c already then say...</td>\n",
       "    </tr>\n",
       "    <tr>\n",
       "      <th>4</th>\n",
       "      <td>ham</td>\n",
       "      <td>Nah I don't think he goes to usf, he lives aro...</td>\n",
       "    </tr>\n",
       "  </tbody>\n",
       "</table>\n",
       "</div>"
      ],
      "text/plain": [
       "  Status                                               Text\n",
       "0    ham  Go until jurong point, crazy.. Available only ...\n",
       "1    ham                      Ok lar... Joking wif u oni...\n",
       "2   spam  Free entry in 2 a wkly comp to win FA Cup fina...\n",
       "3    ham  U dun say so early hor... U c already then say...\n",
       "4    ham  Nah I don't think he goes to usf, he lives aro..."
      ]
     },
     "execution_count": 3,
     "metadata": {},
     "output_type": "execute_result"
    }
   ],
   "source": [
    "df = pd.DataFrame({\"Status\": dataset.iloc[:, 0], \"Text\": dataset.iloc[:, 1]})\n",
    "df.head()"
   ]
  },
  {
   "cell_type": "code",
   "execution_count": 4,
   "metadata": {
    "colab": {
     "base_uri": "https://localhost:8080/"
    },
    "executionInfo": {
     "elapsed": 427,
     "status": "ok",
     "timestamp": 1639044244530,
     "user": {
      "displayName": "Reza Ghadiri",
      "photoUrl": "https://lh3.googleusercontent.com/a/default-user=s64",
      "userId": "16694779595683558205"
     },
     "user_tz": -210
    },
    "id": "DyzFzslxDA47",
    "outputId": "6fe94494-8975-40c1-a67d-261ceb978569"
   },
   "outputs": [
    {
     "name": "stdout",
     "output_type": "stream",
     "text": [
      "<class 'pandas.core.frame.DataFrame'>\n",
      "RangeIndex: 5572 entries, 0 to 5571\n",
      "Data columns (total 2 columns):\n",
      " #   Column  Non-Null Count  Dtype \n",
      "---  ------  --------------  ----- \n",
      " 0   Status  5572 non-null   object\n",
      " 1   Text    5572 non-null   object\n",
      "dtypes: object(2)\n",
      "memory usage: 87.2+ KB\n"
     ]
    }
   ],
   "source": [
    "df.info()"
   ]
  },
  {
   "cell_type": "code",
   "execution_count": 5,
   "metadata": {
    "colab": {
     "base_uri": "https://localhost:8080/"
    },
    "executionInfo": {
     "elapsed": 451,
     "status": "ok",
     "timestamp": 1639044252427,
     "user": {
      "displayName": "Reza Ghadiri",
      "photoUrl": "https://lh3.googleusercontent.com/a/default-user=s64",
      "userId": "16694779595683558205"
     },
     "user_tz": -210
    },
    "id": "BaCicyJGDD1X",
    "outputId": "a4d182d6-5672-4c19-9af7-7b2a740133b1"
   },
   "outputs": [
    {
     "name": "stdout",
     "output_type": "stream",
     "text": [
      "ham     4825\n",
      "spam     747\n",
      "Name: Status, dtype: int64\n",
      "ham     86.593683\n",
      "spam    13.406317\n",
      "Name: Status, dtype: float64\n"
     ]
    }
   ],
   "source": [
    "print(df['Status'].value_counts())\n",
    "print(df['Status'].value_counts(normalize=True) * 100)"
   ]
  },
  {
   "cell_type": "code",
   "execution_count": 6,
   "metadata": {
    "colab": {
     "base_uri": "https://localhost:8080/",
     "height": 386
    },
    "executionInfo": {
     "elapsed": 1200,
     "status": "ok",
     "timestamp": 1639044276391,
     "user": {
      "displayName": "Reza Ghadiri",
      "photoUrl": "https://lh3.googleusercontent.com/a/default-user=s64",
      "userId": "16694779595683558205"
     },
     "user_tz": -210
    },
    "id": "A7_gfPm9DrjS",
    "outputId": "4c57cf96-45b0-4b93-aa98-d847e1a442f1"
   },
   "outputs": [
    {
     "data": {
      "text/plain": [
       "<seaborn.axisgrid.FacetGrid at 0x7f4b756ca610>"
      ]
     },
     "execution_count": 6,
     "metadata": {},
     "output_type": "execute_result"
    },
    {
     "data": {
      "image/png": "[encoded data removed]",
      "text/plain": [
       "<Figure size 360x360 with 1 Axes>"
      ]
     },
     "metadata": {
      "needs_background": "light"
     },
     "output_type": "display_data"
    }
   ],
   "source": [
    "sns.displot(data=df, x=\"Status\")"
   ]
  },
  {
   "cell_type": "markdown",
   "metadata": {
    "id": "bVtEdkgPEyXw"
   },
   "source": [
    "# Preprocessing"
   ]
  },
  {
   "cell_type": "code",
   "execution_count": 7,
   "metadata": {
    "colab": {
     "base_uri": "https://localhost:8080/",
     "height": 206
    },
    "executionInfo": {
     "elapsed": 427,
     "status": "ok",
     "timestamp": 1639044290244,
     "user": {
      "displayName": "Reza Ghadiri",
      "photoUrl": "https://lh3.googleusercontent.com/a/default-user=s64",
      "userId": "16694779595683558205"
     },
     "user_tz": -210
    },
    "id": "O4tVj5-0Eh2v",
    "outputId": "2fd0da56-7f67-486e-ecc2-0b853ad87379"
   },
   "outputs": [
    {
     "data": {
      "text/html": [
       "<div>\n",
       "<style scoped>\n",
       "    .dataframe tbody tr th:only-of-type {\n",
       "        vertical-align: middle;\n",
       "    }\n",
       "\n",
       "    .dataframe tbody tr th {\n",
       "        vertical-align: top;\n",
       "    }\n",
       "\n",
       "    .dataframe thead th {\n",
       "        text-align: right;\n",
       "    }\n",
       "</style>\n",
       "<table border=\"1\" class=\"dataframe\">\n",
       "  <thead>\n",
       "    <tr style=\"text-align: right;\">\n",
       "      <th></th>\n",
       "      <th>Status</th>\n",
       "      <th>Text</th>\n",
       "    </tr>\n",
       "  </thead>\n",
       "  <tbody>\n",
       "    <tr>\n",
       "      <th>0</th>\n",
       "      <td>0</td>\n",
       "      <td>Go until jurong point, crazy.. Available only ...</td>\n",
       "    </tr>\n",
       "    <tr>\n",
       "      <th>1</th>\n",
       "      <td>0</td>\n",
       "      <td>Ok lar... Joking wif u oni...</td>\n",
       "    </tr>\n",
       "    <tr>\n",
       "      <th>2</th>\n",
       "      <td>1</td>\n",
       "      <td>Free entry in 2 a wkly comp to win FA Cup fina...</td>\n",
       "    </tr>\n",
       "    <tr>\n",
       "      <th>3</th>\n",
       "      <td>0</td>\n",
       "      <td>U dun say so early hor... U c already then say...</td>\n",
       "    </tr>\n",
       "    <tr>\n",
       "      <th>4</th>\n",
       "      <td>0</td>\n",
       "      <td>Nah I don't think he goes to usf, he lives aro...</td>\n",
       "    </tr>\n",
       "  </tbody>\n",
       "</table>\n",
       "</div>"
      ],
      "text/plain": [
       "   Status                                               Text\n",
       "0       0  Go until jurong point, crazy.. Available only ...\n",
       "1       0                      Ok lar... Joking wif u oni...\n",
       "2       1  Free entry in 2 a wkly comp to win FA Cup fina...\n",
       "3       0  U dun say so early hor... U c already then say...\n",
       "4       0  Nah I don't think he goes to usf, he lives aro..."
      ]
     },
     "execution_count": 7,
     "metadata": {},
     "output_type": "execute_result"
    }
   ],
   "source": [
    "df[\"Status\"] = df[\"Status\"].map({\"spam\": 1, \"ham\": 0})\n",
    "df.head()\n",
    "# Also LabelEncoder is available for this part"
   ]
  },
  {
   "cell_type": "code",
   "execution_count": 8,
   "metadata": {},
   "outputs": [
    {
     "data": {
      "text/plain": [
       "0    0\n",
       "1    0\n",
       "2    1\n",
       "3    0\n",
       "4    0\n",
       "Name: Status, dtype: int64"
      ]
     },
     "execution_count": 8,
     "metadata": {},
     "output_type": "execute_result"
    }
   ],
   "source": [
    "y = df.iloc[:, 0]\n",
    "y[:5]"
   ]
  },
  {
   "cell_type": "code",
   "execution_count": 9,
   "metadata": {
    "executionInfo": {
     "elapsed": 19,
     "status": "ok",
     "timestamp": 1639048370686,
     "user": {
      "displayName": "Reza Ghadiri",
      "photoUrl": "https://lh3.googleusercontent.com/a/default-user=s64",
      "userId": "16694779595683558205"
     },
     "user_tz": -210
    },
    "id": "er0_9jrpIAt9"
   },
   "outputs": [
    {
     "data": {
      "text/plain": [
       "0    Go until jurong point, crazy.. Available only ...\n",
       "1                        Ok lar... Joking wif u oni...\n",
       "2    Free entry in 2 a wkly comp to win FA Cup fina...\n",
       "3    U dun say so early hor... U c already then say...\n",
       "4    Nah I don't think he goes to usf, he lives aro...\n",
       "Name: Text, dtype: object"
      ]
     },
     "execution_count": 9,
     "metadata": {},
     "output_type": "execute_result"
    }
   ],
   "source": [
    "text_messages = df.iloc[:, 1]\n",
    "text_messages[:5]"
   ]
  },
  {
   "cell_type": "code",
   "execution_count": 10,
   "metadata": {
    "colab": {
     "base_uri": "https://localhost:8080/"
    },
    "executionInfo": {
     "elapsed": 724,
     "status": "ok",
     "timestamp": 1639048373203,
     "user": {
      "displayName": "Reza Ghadiri",
      "photoUrl": "https://lh3.googleusercontent.com/a/default-user=s64",
      "userId": "16694779595683558205"
     },
     "user_tz": -210
    },
    "id": "iFhoQiqSEw1A",
    "outputId": "62a20ce1-3449-49e9-c623-387952dad54c"
   },
   "outputs": [
    {
     "name": "stderr",
     "output_type": "stream",
     "text": [
      "/tmp/ipykernel_16921/1386571516.py:3: FutureWarning: The default value of regex will change from True to False in a future version.\n",
      "  texts = text_messages.str.replace(r'\\d+(\\.\\d+)?', 'number') #Numbers\n",
      "/tmp/ipykernel_16921/1386571516.py:5: FutureWarning: The default value of regex will change from True to False in a future version.\n",
      "  texts = texts.str.replace(r'^\\(?[\\d]{3}\\)?[\\s-]?[\\d]{3}[\\s-]?[\\d]{4}$', 'phonenumber') #Phone numbers\n",
      "/tmp/ipykernel_16921/1386571516.py:7: FutureWarning: The default value of regex will change from True to False in a future version.\n",
      "  texts = texts.str.replace(r'^.+@[^\\.].*\\.[a-z]{2,}$', 'emailaddress') #Emails\n",
      "/tmp/ipykernel_16921/1386571516.py:9: FutureWarning: The default value of regex will change from True to False in a future version.\n",
      "  texts = texts.str.replace(r'^http\\://[a-zA-Z0-9\\-\\.]+\\.[a-zA-Z]{2,3}(/\\S*)?$', 'webaddress') #URLS\n",
      "/tmp/ipykernel_16921/1386571516.py:11: FutureWarning: The default value of regex will change from True to False in a future version.\n",
      "  texts = texts.str.replace(r'[^\\w\\d\\s]', ' ') # Remove punctuation with regex method\n",
      "/tmp/ipykernel_16921/1386571516.py:13: FutureWarning: The default value of regex will change from True to False in a future version.\n",
      "  texts = texts.str.replace(r'\\s+', ' ') # Replace whitespace between terms with a single space\n",
      "/tmp/ipykernel_16921/1386571516.py:15: FutureWarning: The default value of regex will change from True to False in a future version.\n",
      "  texts = texts.str.replace(r'^\\s+|\\s+?$', '') # Remove leading and trailing whitespace\n"
     ]
    }
   ],
   "source": [
    "# Replacing emails, phones, ...\n",
    "\n",
    "texts = text_messages.str.replace(r'\\d+(\\.\\d+)?', 'number') #Numbers \n",
    "\n",
    "texts = texts.str.replace(r'^\\(?[\\d]{3}\\)?[\\s-]?[\\d]{3}[\\s-]?[\\d]{4}$', 'phonenumber') #Phone numbers\n",
    "\n",
    "texts = texts.str.replace(r'^.+@[^\\.].*\\.[a-z]{2,}$', 'emailaddress') #Emails\n",
    "\n",
    "texts = texts.str.replace(r'^http\\://[a-zA-Z0-9\\-\\.]+\\.[a-zA-Z]{2,3}(/\\S*)?$', 'webaddress') #URLS\n",
    "\n",
    "texts = texts.str.replace(r'[^\\w\\d\\s]', ' ') # Remove punctuation with regex method\n",
    "\n",
    "texts = texts.str.replace(r'\\s+', ' ') # Replace whitespace between terms with a single space\n",
    "\n",
    "texts = texts.str.replace(r'^\\s+|\\s+?$', '') # Remove leading and trailing whitespace"
   ]
  },
  {
   "cell_type": "code",
   "execution_count": 11,
   "metadata": {
    "colab": {
     "base_uri": "https://localhost:8080/"
    },
    "executionInfo": {
     "elapsed": 387,
     "status": "ok",
     "timestamp": 1639048378743,
     "user": {
      "displayName": "Reza Ghadiri",
      "photoUrl": "https://lh3.googleusercontent.com/a/default-user=s64",
      "userId": "16694779595683558205"
     },
     "user_tz": -210
    },
    "id": "JMIvx3eWJ2lP",
    "outputId": "d9c4a58a-0ef0-40ee-e530-b758bbcb1bf2"
   },
   "outputs": [
    {
     "name": "stdout",
     "output_type": "stream",
     "text": [
      "0       go until jurong point crazy available only in ...\n",
      "1                                 ok lar joking wif u oni\n",
      "2       free entry in number a wkly comp to win fa cup...\n",
      "3             u dun say so early hor u c already then say\n",
      "4       nah i don t think he goes to usf he lives arou...\n",
      "                              ...                        \n",
      "5567    this is the numbernd time we have tried number...\n",
      "5568                  will ü b going to esplanade fr home\n",
      "5569    pity was in mood for that so any other suggest...\n",
      "5570    the guy did some bitching but i acted like i d...\n",
      "5571                            rofl its true to its name\n",
      "Name: Text, Length: 5572, dtype: object\n"
     ]
    }
   ],
   "source": [
    "# Make all words lower case\n",
    "texts = texts.str.lower()\n",
    "print(texts)"
   ]
  },
  {
   "cell_type": "code",
   "execution_count": 12,
   "metadata": {
    "colab": {
     "base_uri": "https://localhost:8080/"
    },
    "executionInfo": {
     "elapsed": 1782,
     "status": "ok",
     "timestamp": 1639048388320,
     "user": {
      "displayName": "Reza Ghadiri",
      "photoUrl": "https://lh3.googleusercontent.com/a/default-user=s64",
      "userId": "16694779595683558205"
     },
     "user_tz": -210
    },
    "id": "81rCIx0qQnV6",
    "outputId": "afd1cddd-f2a5-418c-d237-df1ba22a574c"
   },
   "outputs": [
    {
     "name": "stdout",
     "output_type": "stream",
     "text": [
      "0       go jurong point crazy available bugis n great ...\n",
      "1                                 ok lar joking wif u oni\n",
      "2       free entry number wkly comp win fa cup final t...\n",
      "3                     u dun say early hor u c already say\n",
      "4                  nah think goes usf lives around though\n",
      "                              ...                        \n",
      "5567    numbernd time tried number contact u u number ...\n",
      "5568                          ü b going esplanade fr home\n",
      "5569                                pity mood suggestions\n",
      "5570    guy bitching acted like interested buying some...\n",
      "5571                                       rofl true name\n",
      "Name: Text, Length: 5572, dtype: object\n"
     ]
    },
    {
     "name": "stderr",
     "output_type": "stream",
     "text": [
      "[nltk_data] Downloading package stopwords to /home/rghaf/nltk_data...\n",
      "[nltk_data]   Package stopwords is already up-to-date!\n"
     ]
    }
   ],
   "source": [
    "# remove StopWords ==> words without meaning removed a, an, the and ...\n",
    "nltk.download('stopwords')\n",
    "from nltk.corpus import stopwords\n",
    "sw = set(stopwords.words('english'))\n",
    "texts = texts.apply(lambda x: ' '.join(term for term in x.split() if term not in sw))\n",
    "print(texts)"
   ]
  },
  {
   "cell_type": "code",
   "execution_count": 13,
   "metadata": {},
   "outputs": [
    {
     "name": "stdout",
     "output_type": "stream",
     "text": [
      "0       go jurong point crazi avail bugi n great world...\n",
      "1                                   ok lar joke wif u oni\n",
      "2       free entri number wkli comp win fa cup final t...\n",
      "3                     u dun say earli hor u c alreadi say\n",
      "4                    nah think goe usf live around though\n",
      "                              ...                        \n",
      "5567    numbernd time tri number contact u u number po...\n",
      "5568                              ü b go esplanad fr home\n",
      "5569                                    piti mood suggest\n",
      "5570    guy bitch act like interest buy someth els nex...\n",
      "5571                                       rofl true name\n",
      "Name: Text, Length: 5572, dtype: object\n"
     ]
    }
   ],
   "source": [
    "# remove Stemming\n",
    "ps = nltk.PorterStemmer()\n",
    "texts = texts.apply(lambda x: ' '.join(ps.stem(term) for term in x.split()))\n",
    "print(texts)"
   ]
  },
  {
   "cell_type": "code",
   "execution_count": 14,
   "metadata": {
    "colab": {
     "base_uri": "https://localhost:8080/"
    },
    "executionInfo": {
     "elapsed": 836,
     "status": "ok",
     "timestamp": 1639048393399,
     "user": {
      "displayName": "Reza Ghadiri",
      "photoUrl": "https://lh3.googleusercontent.com/a/default-user=s64",
      "userId": "16694779595683558205"
     },
     "user_tz": -210
    },
    "id": "EAgPTLx2o-Ij",
    "outputId": "8f36b31e-cdf1-4361-ebd7-2b4e0bbd9548"
   },
   "outputs": [
    {
     "name": "stdout",
     "output_type": "stream",
     "text": [
      "6559\n",
      "[('number', 3086), ('u', 1207), ('call', 679), ('go', 456), ('get', 451), ('ur', 391), ('gt', 318), ('lt', 316), ('come', 304), ('ok', 293)]\n"
     ]
    }
   ],
   "source": [
    "#Tokenize words\n",
    "#nltk.download('punkt')\n",
    "from nltk.tokenize import word_tokenize\n",
    "\n",
    "words_bag = []\n",
    "for txt in texts:\n",
    "    words = word_tokenize(txt)\n",
    "    for word in words:\n",
    "        words_bag.append(word)\n",
    "\n",
    "words_bag = nltk.FreqDist(words_bag)\n",
    "print(len(words_bag))\n",
    "print(words_bag.most_common(10))"
   ]
  },
  {
   "cell_type": "code",
   "execution_count": 15,
   "metadata": {
    "executionInfo": {
     "elapsed": 370,
     "status": "ok",
     "timestamp": 1639048397598,
     "user": {
      "displayName": "Reza Ghadiri",
      "photoUrl": "https://lh3.googleusercontent.com/a/default-user=s64",
      "userId": "16694779595683558205"
     },
     "user_tz": -210
    },
    "id": "aEs4EMUZtEoV"
   },
   "outputs": [],
   "source": [
    "#Words use a as features\n",
    "features_word = list(words_bag.keys())[:1000]"
   ]
  },
  {
   "cell_type": "code",
   "execution_count": 17,
   "metadata": {
    "colab": {
     "base_uri": "https://localhost:8080/"
    },
    "executionInfo": {
     "elapsed": 920,
     "status": "ok",
     "timestamp": 1639048414004,
     "user": {
      "displayName": "Reza Ghadiri",
      "photoUrl": "https://lh3.googleusercontent.com/a/default-user=s64",
      "userId": "16694779595683558205"
     },
     "user_tz": -210
    },
    "id": "zuNqo6QLy1Dx",
    "outputId": "16899768-e35e-493f-f059-4a8c95c6ff41"
   },
   "outputs": [
    {
     "name": "stdout",
     "output_type": "stream",
     "text": [
      "go\n",
      "jurong\n",
      "point\n",
      "crazi\n",
      "avail\n",
      "bugi\n",
      "n\n",
      "great\n",
      "world\n",
      "la\n",
      "e\n",
      "buffet\n",
      "cine\n",
      "got\n",
      "amor\n",
      "wat\n",
      "go jurong point crazi avail bugi n great world la e buffet cine got amor wat\n"
     ]
    }
   ],
   "source": [
    "#find features of each text\n",
    "def find_feature(txt):\n",
    "    words = word_tokenize(txt)\n",
    "    features = {}\n",
    "    for word in features_word:\n",
    "        features[word] = (word in words)\n",
    "    return features\n",
    "\n",
    "#Example :\n",
    "features = find_feature(texts[0])\n",
    "for key, value in features.items():\n",
    "    if value == True:\n",
    "        print(key)\n",
    "print(texts[0])"
   ]
  },
  {
   "cell_type": "code",
   "execution_count": 19,
   "metadata": {
    "colab": {
     "base_uri": "https://localhost:8080/"
    },
    "executionInfo": {
     "elapsed": 489,
     "status": "ok",
     "timestamp": 1639048482508,
     "user": {
      "displayName": "Reza Ghadiri",
      "photoUrl": "https://lh3.googleusercontent.com/a/default-user=s64",
      "userId": "16694779595683558205"
     },
     "user_tz": -210
    },
    "id": "02wwCllE1GVM",
    "outputId": "d30a7907-c390-43fc-c6ca-9614ed1c07a3"
   },
   "outputs": [],
   "source": [
    "#merge datas\n",
    "text_messages = zip(texts, y)"
   ]
  },
  {
   "cell_type": "code",
   "execution_count": 20,
   "metadata": {
    "id": "PlCvv-1g5wrB"
   },
   "outputs": [],
   "source": [
    "#find features for all maessages\n",
    "all_features = [(find_feature(text), label) for (text, label) in text_messages]"
   ]
  },
  {
   "cell_type": "code",
   "execution_count": 28,
   "metadata": {},
   "outputs": [],
   "source": [
    "from sklearn.model_selection import train_test_split\n",
    "\n",
    "train_data, test_data = train_test_split(all_features, test_size = 0.25)"
   ]
  },
  {
   "cell_type": "code",
   "execution_count": 29,
   "metadata": {},
   "outputs": [
    {
     "name": "stdout",
     "output_type": "stream",
     "text": [
      "4179\n",
      "1393\n"
     ]
    }
   ],
   "source": [
    "print(len(train_data))\n",
    "print(len(test_data))"
   ]
  },
  {
   "cell_type": "code",
   "execution_count": 36,
   "metadata": {},
   "outputs": [],
   "source": [
    "final_train_data = pd.DataFrame (train_data, columns = ['x', 'y'])\n",
    "final_test_data = pd.DataFrame (test_data, columns = ['x', 'y'])"
   ]
  },
  {
   "cell_type": "markdown",
   "metadata": {},
   "source": [
    "# Train Model"
   ]
  },
  {
   "cell_type": "code",
   "execution_count": 41,
   "metadata": {},
   "outputs": [
    {
     "data": {
      "text/html": [
       "<style type=\"text/css\">\n",
       "#T_cde4e_row44_col1 {\n",
       "  background-color: lightgreen;\n",
       "}\n",
       "</style>\n",
       "<table id=\"T_cde4e_\">\n",
       "  <thead>\n",
       "    <tr>\n",
       "      <th class=\"blank level0\" >&nbsp;</th>\n",
       "      <th class=\"col_heading level0 col0\" >Description</th>\n",
       "      <th class=\"col_heading level0 col1\" >Value</th>\n",
       "    </tr>\n",
       "  </thead>\n",
       "  <tbody>\n",
       "    <tr>\n",
       "      <th id=\"T_cde4e_level0_row0\" class=\"row_heading level0 row0\" >0</th>\n",
       "      <td id=\"T_cde4e_row0_col0\" class=\"data row0 col0\" >session_id</td>\n",
       "      <td id=\"T_cde4e_row0_col1\" class=\"data row0 col1\" >2528</td>\n",
       "    </tr>\n",
       "    <tr>\n",
       "      <th id=\"T_cde4e_level0_row1\" class=\"row_heading level0 row1\" >1</th>\n",
       "      <td id=\"T_cde4e_row1_col0\" class=\"data row1 col0\" >Target</td>\n",
       "      <td id=\"T_cde4e_row1_col1\" class=\"data row1 col1\" >y</td>\n",
       "    </tr>\n",
       "    <tr>\n",
       "      <th id=\"T_cde4e_level0_row2\" class=\"row_heading level0 row2\" >2</th>\n",
       "      <td id=\"T_cde4e_row2_col0\" class=\"data row2 col0\" >Target Type</td>\n",
       "      <td id=\"T_cde4e_row2_col1\" class=\"data row2 col1\" >Binary</td>\n",
       "    </tr>\n",
       "    <tr>\n",
       "      <th id=\"T_cde4e_level0_row3\" class=\"row_heading level0 row3\" >3</th>\n",
       "      <td id=\"T_cde4e_row3_col0\" class=\"data row3 col0\" >Label Encoded</td>\n",
       "      <td id=\"T_cde4e_row3_col1\" class=\"data row3 col1\" >None</td>\n",
       "    </tr>\n",
       "    <tr>\n",
       "      <th id=\"T_cde4e_level0_row4\" class=\"row_heading level0 row4\" >4</th>\n",
       "      <td id=\"T_cde4e_row4_col0\" class=\"data row4 col0\" >Original Data</td>\n",
       "      <td id=\"T_cde4e_row4_col1\" class=\"data row4 col1\" >(4179, 2)</td>\n",
       "    </tr>\n",
       "    <tr>\n",
       "      <th id=\"T_cde4e_level0_row5\" class=\"row_heading level0 row5\" >5</th>\n",
       "      <td id=\"T_cde4e_row5_col0\" class=\"data row5 col0\" >Missing Values</td>\n",
       "      <td id=\"T_cde4e_row5_col1\" class=\"data row5 col1\" >False</td>\n",
       "    </tr>\n",
       "    <tr>\n",
       "      <th id=\"T_cde4e_level0_row6\" class=\"row_heading level0 row6\" >6</th>\n",
       "      <td id=\"T_cde4e_row6_col0\" class=\"data row6 col0\" >Numeric Features</td>\n",
       "      <td id=\"T_cde4e_row6_col1\" class=\"data row6 col1\" >0</td>\n",
       "    </tr>\n",
       "    <tr>\n",
       "      <th id=\"T_cde4e_level0_row7\" class=\"row_heading level0 row7\" >7</th>\n",
       "      <td id=\"T_cde4e_row7_col0\" class=\"data row7 col0\" >Categorical Features</td>\n",
       "      <td id=\"T_cde4e_row7_col1\" class=\"data row7 col1\" >1</td>\n",
       "    </tr>\n",
       "    <tr>\n",
       "      <th id=\"T_cde4e_level0_row8\" class=\"row_heading level0 row8\" >8</th>\n",
       "      <td id=\"T_cde4e_row8_col0\" class=\"data row8 col0\" >Ordinal Features</td>\n",
       "      <td id=\"T_cde4e_row8_col1\" class=\"data row8 col1\" >False</td>\n",
       "    </tr>\n",
       "    <tr>\n",
       "      <th id=\"T_cde4e_level0_row9\" class=\"row_heading level0 row9\" >9</th>\n",
       "      <td id=\"T_cde4e_row9_col0\" class=\"data row9 col0\" >High Cardinality Features</td>\n",
       "      <td id=\"T_cde4e_row9_col1\" class=\"data row9 col1\" >False</td>\n",
       "    </tr>\n",
       "    <tr>\n",
       "      <th id=\"T_cde4e_level0_row10\" class=\"row_heading level0 row10\" >10</th>\n",
       "      <td id=\"T_cde4e_row10_col0\" class=\"data row10 col0\" >High Cardinality Method</td>\n",
       "      <td id=\"T_cde4e_row10_col1\" class=\"data row10 col1\" >None</td>\n",
       "    </tr>\n",
       "    <tr>\n",
       "      <th id=\"T_cde4e_level0_row11\" class=\"row_heading level0 row11\" >11</th>\n",
       "      <td id=\"T_cde4e_row11_col0\" class=\"data row11 col0\" >Transformed Train Set</td>\n",
       "      <td id=\"T_cde4e_row11_col1\" class=\"data row11 col1\" >(2925, 2604)</td>\n",
       "    </tr>\n",
       "    <tr>\n",
       "      <th id=\"T_cde4e_level0_row12\" class=\"row_heading level0 row12\" >12</th>\n",
       "      <td id=\"T_cde4e_row12_col0\" class=\"data row12 col0\" >Transformed Test Set</td>\n",
       "      <td id=\"T_cde4e_row12_col1\" class=\"data row12 col1\" >(1254, 2604)</td>\n",
       "    </tr>\n",
       "    <tr>\n",
       "      <th id=\"T_cde4e_level0_row13\" class=\"row_heading level0 row13\" >13</th>\n",
       "      <td id=\"T_cde4e_row13_col0\" class=\"data row13 col0\" >Shuffle Train-Test</td>\n",
       "      <td id=\"T_cde4e_row13_col1\" class=\"data row13 col1\" >True</td>\n",
       "    </tr>\n",
       "    <tr>\n",
       "      <th id=\"T_cde4e_level0_row14\" class=\"row_heading level0 row14\" >14</th>\n",
       "      <td id=\"T_cde4e_row14_col0\" class=\"data row14 col0\" >Stratify Train-Test</td>\n",
       "      <td id=\"T_cde4e_row14_col1\" class=\"data row14 col1\" >False</td>\n",
       "    </tr>\n",
       "    <tr>\n",
       "      <th id=\"T_cde4e_level0_row15\" class=\"row_heading level0 row15\" >15</th>\n",
       "      <td id=\"T_cde4e_row15_col0\" class=\"data row15 col0\" >Fold Generator</td>\n",
       "      <td id=\"T_cde4e_row15_col1\" class=\"data row15 col1\" >StratifiedKFold</td>\n",
       "    </tr>\n",
       "    <tr>\n",
       "      <th id=\"T_cde4e_level0_row16\" class=\"row_heading level0 row16\" >16</th>\n",
       "      <td id=\"T_cde4e_row16_col0\" class=\"data row16 col0\" >Fold Number</td>\n",
       "      <td id=\"T_cde4e_row16_col1\" class=\"data row16 col1\" >10</td>\n",
       "    </tr>\n",
       "    <tr>\n",
       "      <th id=\"T_cde4e_level0_row17\" class=\"row_heading level0 row17\" >17</th>\n",
       "      <td id=\"T_cde4e_row17_col0\" class=\"data row17 col0\" >CPU Jobs</td>\n",
       "      <td id=\"T_cde4e_row17_col1\" class=\"data row17 col1\" >-1</td>\n",
       "    </tr>\n",
       "    <tr>\n",
       "      <th id=\"T_cde4e_level0_row18\" class=\"row_heading level0 row18\" >18</th>\n",
       "      <td id=\"T_cde4e_row18_col0\" class=\"data row18 col0\" >Use GPU</td>\n",
       "      <td id=\"T_cde4e_row18_col1\" class=\"data row18 col1\" >False</td>\n",
       "    </tr>\n",
       "    <tr>\n",
       "      <th id=\"T_cde4e_level0_row19\" class=\"row_heading level0 row19\" >19</th>\n",
       "      <td id=\"T_cde4e_row19_col0\" class=\"data row19 col0\" >Log Experiment</td>\n",
       "      <td id=\"T_cde4e_row19_col1\" class=\"data row19 col1\" >False</td>\n",
       "    </tr>\n",
       "    <tr>\n",
       "      <th id=\"T_cde4e_level0_row20\" class=\"row_heading level0 row20\" >20</th>\n",
       "      <td id=\"T_cde4e_row20_col0\" class=\"data row20 col0\" >Experiment Name</td>\n",
       "      <td id=\"T_cde4e_row20_col1\" class=\"data row20 col1\" >clf-default-name</td>\n",
       "    </tr>\n",
       "    <tr>\n",
       "      <th id=\"T_cde4e_level0_row21\" class=\"row_heading level0 row21\" >21</th>\n",
       "      <td id=\"T_cde4e_row21_col0\" class=\"data row21 col0\" >USI</td>\n",
       "      <td id=\"T_cde4e_row21_col1\" class=\"data row21 col1\" >424e</td>\n",
       "    </tr>\n",
       "    <tr>\n",
       "      <th id=\"T_cde4e_level0_row22\" class=\"row_heading level0 row22\" >22</th>\n",
       "      <td id=\"T_cde4e_row22_col0\" class=\"data row22 col0\" >Imputation Type</td>\n",
       "      <td id=\"T_cde4e_row22_col1\" class=\"data row22 col1\" >simple</td>\n",
       "    </tr>\n",
       "    <tr>\n",
       "      <th id=\"T_cde4e_level0_row23\" class=\"row_heading level0 row23\" >23</th>\n",
       "      <td id=\"T_cde4e_row23_col0\" class=\"data row23 col0\" >Iterative Imputation Iteration</td>\n",
       "      <td id=\"T_cde4e_row23_col1\" class=\"data row23 col1\" >None</td>\n",
       "    </tr>\n",
       "    <tr>\n",
       "      <th id=\"T_cde4e_level0_row24\" class=\"row_heading level0 row24\" >24</th>\n",
       "      <td id=\"T_cde4e_row24_col0\" class=\"data row24 col0\" >Numeric Imputer</td>\n",
       "      <td id=\"T_cde4e_row24_col1\" class=\"data row24 col1\" >mean</td>\n",
       "    </tr>\n",
       "    <tr>\n",
       "      <th id=\"T_cde4e_level0_row25\" class=\"row_heading level0 row25\" >25</th>\n",
       "      <td id=\"T_cde4e_row25_col0\" class=\"data row25 col0\" >Iterative Imputation Numeric Model</td>\n",
       "      <td id=\"T_cde4e_row25_col1\" class=\"data row25 col1\" >None</td>\n",
       "    </tr>\n",
       "    <tr>\n",
       "      <th id=\"T_cde4e_level0_row26\" class=\"row_heading level0 row26\" >26</th>\n",
       "      <td id=\"T_cde4e_row26_col0\" class=\"data row26 col0\" >Categorical Imputer</td>\n",
       "      <td id=\"T_cde4e_row26_col1\" class=\"data row26 col1\" >constant</td>\n",
       "    </tr>\n",
       "    <tr>\n",
       "      <th id=\"T_cde4e_level0_row27\" class=\"row_heading level0 row27\" >27</th>\n",
       "      <td id=\"T_cde4e_row27_col0\" class=\"data row27 col0\" >Iterative Imputation Categorical Model</td>\n",
       "      <td id=\"T_cde4e_row27_col1\" class=\"data row27 col1\" >None</td>\n",
       "    </tr>\n",
       "    <tr>\n",
       "      <th id=\"T_cde4e_level0_row28\" class=\"row_heading level0 row28\" >28</th>\n",
       "      <td id=\"T_cde4e_row28_col0\" class=\"data row28 col0\" >Unknown Categoricals Handling</td>\n",
       "      <td id=\"T_cde4e_row28_col1\" class=\"data row28 col1\" >least_frequent</td>\n",
       "    </tr>\n",
       "    <tr>\n",
       "      <th id=\"T_cde4e_level0_row29\" class=\"row_heading level0 row29\" >29</th>\n",
       "      <td id=\"T_cde4e_row29_col0\" class=\"data row29 col0\" >Normalize</td>\n",
       "      <td id=\"T_cde4e_row29_col1\" class=\"data row29 col1\" >False</td>\n",
       "    </tr>\n",
       "    <tr>\n",
       "      <th id=\"T_cde4e_level0_row30\" class=\"row_heading level0 row30\" >30</th>\n",
       "      <td id=\"T_cde4e_row30_col0\" class=\"data row30 col0\" >Normalize Method</td>\n",
       "      <td id=\"T_cde4e_row30_col1\" class=\"data row30 col1\" >None</td>\n",
       "    </tr>\n",
       "    <tr>\n",
       "      <th id=\"T_cde4e_level0_row31\" class=\"row_heading level0 row31\" >31</th>\n",
       "      <td id=\"T_cde4e_row31_col0\" class=\"data row31 col0\" >Transformation</td>\n",
       "      <td id=\"T_cde4e_row31_col1\" class=\"data row31 col1\" >False</td>\n",
       "    </tr>\n",
       "    <tr>\n",
       "      <th id=\"T_cde4e_level0_row32\" class=\"row_heading level0 row32\" >32</th>\n",
       "      <td id=\"T_cde4e_row32_col0\" class=\"data row32 col0\" >Transformation Method</td>\n",
       "      <td id=\"T_cde4e_row32_col1\" class=\"data row32 col1\" >None</td>\n",
       "    </tr>\n",
       "    <tr>\n",
       "      <th id=\"T_cde4e_level0_row33\" class=\"row_heading level0 row33\" >33</th>\n",
       "      <td id=\"T_cde4e_row33_col0\" class=\"data row33 col0\" >PCA</td>\n",
       "      <td id=\"T_cde4e_row33_col1\" class=\"data row33 col1\" >False</td>\n",
       "    </tr>\n",
       "    <tr>\n",
       "      <th id=\"T_cde4e_level0_row34\" class=\"row_heading level0 row34\" >34</th>\n",
       "      <td id=\"T_cde4e_row34_col0\" class=\"data row34 col0\" >PCA Method</td>\n",
       "      <td id=\"T_cde4e_row34_col1\" class=\"data row34 col1\" >None</td>\n",
       "    </tr>\n",
       "    <tr>\n",
       "      <th id=\"T_cde4e_level0_row35\" class=\"row_heading level0 row35\" >35</th>\n",
       "      <td id=\"T_cde4e_row35_col0\" class=\"data row35 col0\" >PCA Components</td>\n",
       "      <td id=\"T_cde4e_row35_col1\" class=\"data row35 col1\" >None</td>\n",
       "    </tr>\n",
       "    <tr>\n",
       "      <th id=\"T_cde4e_level0_row36\" class=\"row_heading level0 row36\" >36</th>\n",
       "      <td id=\"T_cde4e_row36_col0\" class=\"data row36 col0\" >Ignore Low Variance</td>\n",
       "      <td id=\"T_cde4e_row36_col1\" class=\"data row36 col1\" >False</td>\n",
       "    </tr>\n",
       "    <tr>\n",
       "      <th id=\"T_cde4e_level0_row37\" class=\"row_heading level0 row37\" >37</th>\n",
       "      <td id=\"T_cde4e_row37_col0\" class=\"data row37 col0\" >Combine Rare Levels</td>\n",
       "      <td id=\"T_cde4e_row37_col1\" class=\"data row37 col1\" >False</td>\n",
       "    </tr>\n",
       "    <tr>\n",
       "      <th id=\"T_cde4e_level0_row38\" class=\"row_heading level0 row38\" >38</th>\n",
       "      <td id=\"T_cde4e_row38_col0\" class=\"data row38 col0\" >Rare Level Threshold</td>\n",
       "      <td id=\"T_cde4e_row38_col1\" class=\"data row38 col1\" >None</td>\n",
       "    </tr>\n",
       "    <tr>\n",
       "      <th id=\"T_cde4e_level0_row39\" class=\"row_heading level0 row39\" >39</th>\n",
       "      <td id=\"T_cde4e_row39_col0\" class=\"data row39 col0\" >Numeric Binning</td>\n",
       "      <td id=\"T_cde4e_row39_col1\" class=\"data row39 col1\" >False</td>\n",
       "    </tr>\n",
       "    <tr>\n",
       "      <th id=\"T_cde4e_level0_row40\" class=\"row_heading level0 row40\" >40</th>\n",
       "      <td id=\"T_cde4e_row40_col0\" class=\"data row40 col0\" >Remove Outliers</td>\n",
       "      <td id=\"T_cde4e_row40_col1\" class=\"data row40 col1\" >False</td>\n",
       "    </tr>\n",
       "    <tr>\n",
       "      <th id=\"T_cde4e_level0_row41\" class=\"row_heading level0 row41\" >41</th>\n",
       "      <td id=\"T_cde4e_row41_col0\" class=\"data row41 col0\" >Outliers Threshold</td>\n",
       "      <td id=\"T_cde4e_row41_col1\" class=\"data row41 col1\" >None</td>\n",
       "    </tr>\n",
       "    <tr>\n",
       "      <th id=\"T_cde4e_level0_row42\" class=\"row_heading level0 row42\" >42</th>\n",
       "      <td id=\"T_cde4e_row42_col0\" class=\"data row42 col0\" >Remove Multicollinearity</td>\n",
       "      <td id=\"T_cde4e_row42_col1\" class=\"data row42 col1\" >False</td>\n",
       "    </tr>\n",
       "    <tr>\n",
       "      <th id=\"T_cde4e_level0_row43\" class=\"row_heading level0 row43\" >43</th>\n",
       "      <td id=\"T_cde4e_row43_col0\" class=\"data row43 col0\" >Multicollinearity Threshold</td>\n",
       "      <td id=\"T_cde4e_row43_col1\" class=\"data row43 col1\" >None</td>\n",
       "    </tr>\n",
       "    <tr>\n",
       "      <th id=\"T_cde4e_level0_row44\" class=\"row_heading level0 row44\" >44</th>\n",
       "      <td id=\"T_cde4e_row44_col0\" class=\"data row44 col0\" >Remove Perfect Collinearity</td>\n",
       "      <td id=\"T_cde4e_row44_col1\" class=\"data row44 col1\" >True</td>\n",
       "    </tr>\n",
       "    <tr>\n",
       "      <th id=\"T_cde4e_level0_row45\" class=\"row_heading level0 row45\" >45</th>\n",
       "      <td id=\"T_cde4e_row45_col0\" class=\"data row45 col0\" >Clustering</td>\n",
       "      <td id=\"T_cde4e_row45_col1\" class=\"data row45 col1\" >False</td>\n",
       "    </tr>\n",
       "    <tr>\n",
       "      <th id=\"T_cde4e_level0_row46\" class=\"row_heading level0 row46\" >46</th>\n",
       "      <td id=\"T_cde4e_row46_col0\" class=\"data row46 col0\" >Clustering Iteration</td>\n",
       "      <td id=\"T_cde4e_row46_col1\" class=\"data row46 col1\" >None</td>\n",
       "    </tr>\n",
       "    <tr>\n",
       "      <th id=\"T_cde4e_level0_row47\" class=\"row_heading level0 row47\" >47</th>\n",
       "      <td id=\"T_cde4e_row47_col0\" class=\"data row47 col0\" >Polynomial Features</td>\n",
       "      <td id=\"T_cde4e_row47_col1\" class=\"data row47 col1\" >False</td>\n",
       "    </tr>\n",
       "    <tr>\n",
       "      <th id=\"T_cde4e_level0_row48\" class=\"row_heading level0 row48\" >48</th>\n",
       "      <td id=\"T_cde4e_row48_col0\" class=\"data row48 col0\" >Polynomial Degree</td>\n",
       "      <td id=\"T_cde4e_row48_col1\" class=\"data row48 col1\" >None</td>\n",
       "    </tr>\n",
       "    <tr>\n",
       "      <th id=\"T_cde4e_level0_row49\" class=\"row_heading level0 row49\" >49</th>\n",
       "      <td id=\"T_cde4e_row49_col0\" class=\"data row49 col0\" >Trignometry Features</td>\n",
       "      <td id=\"T_cde4e_row49_col1\" class=\"data row49 col1\" >False</td>\n",
       "    </tr>\n",
       "    <tr>\n",
       "      <th id=\"T_cde4e_level0_row50\" class=\"row_heading level0 row50\" >50</th>\n",
       "      <td id=\"T_cde4e_row50_col0\" class=\"data row50 col0\" >Polynomial Threshold</td>\n",
       "      <td id=\"T_cde4e_row50_col1\" class=\"data row50 col1\" >None</td>\n",
       "    </tr>\n",
       "    <tr>\n",
       "      <th id=\"T_cde4e_level0_row51\" class=\"row_heading level0 row51\" >51</th>\n",
       "      <td id=\"T_cde4e_row51_col0\" class=\"data row51 col0\" >Group Features</td>\n",
       "      <td id=\"T_cde4e_row51_col1\" class=\"data row51 col1\" >False</td>\n",
       "    </tr>\n",
       "    <tr>\n",
       "      <th id=\"T_cde4e_level0_row52\" class=\"row_heading level0 row52\" >52</th>\n",
       "      <td id=\"T_cde4e_row52_col0\" class=\"data row52 col0\" >Feature Selection</td>\n",
       "      <td id=\"T_cde4e_row52_col1\" class=\"data row52 col1\" >False</td>\n",
       "    </tr>\n",
       "    <tr>\n",
       "      <th id=\"T_cde4e_level0_row53\" class=\"row_heading level0 row53\" >53</th>\n",
       "      <td id=\"T_cde4e_row53_col0\" class=\"data row53 col0\" >Feature Selection Method</td>\n",
       "      <td id=\"T_cde4e_row53_col1\" class=\"data row53 col1\" >classic</td>\n",
       "    </tr>\n",
       "    <tr>\n",
       "      <th id=\"T_cde4e_level0_row54\" class=\"row_heading level0 row54\" >54</th>\n",
       "      <td id=\"T_cde4e_row54_col0\" class=\"data row54 col0\" >Features Selection Threshold</td>\n",
       "      <td id=\"T_cde4e_row54_col1\" class=\"data row54 col1\" >None</td>\n",
       "    </tr>\n",
       "    <tr>\n",
       "      <th id=\"T_cde4e_level0_row55\" class=\"row_heading level0 row55\" >55</th>\n",
       "      <td id=\"T_cde4e_row55_col0\" class=\"data row55 col0\" >Feature Interaction</td>\n",
       "      <td id=\"T_cde4e_row55_col1\" class=\"data row55 col1\" >False</td>\n",
       "    </tr>\n",
       "    <tr>\n",
       "      <th id=\"T_cde4e_level0_row56\" class=\"row_heading level0 row56\" >56</th>\n",
       "      <td id=\"T_cde4e_row56_col0\" class=\"data row56 col0\" >Feature Ratio</td>\n",
       "      <td id=\"T_cde4e_row56_col1\" class=\"data row56 col1\" >False</td>\n",
       "    </tr>\n",
       "    <tr>\n",
       "      <th id=\"T_cde4e_level0_row57\" class=\"row_heading level0 row57\" >57</th>\n",
       "      <td id=\"T_cde4e_row57_col0\" class=\"data row57 col0\" >Interaction Threshold</td>\n",
       "      <td id=\"T_cde4e_row57_col1\" class=\"data row57 col1\" >None</td>\n",
       "    </tr>\n",
       "    <tr>\n",
       "      <th id=\"T_cde4e_level0_row58\" class=\"row_heading level0 row58\" >58</th>\n",
       "      <td id=\"T_cde4e_row58_col0\" class=\"data row58 col0\" >Fix Imbalance</td>\n",
       "      <td id=\"T_cde4e_row58_col1\" class=\"data row58 col1\" >False</td>\n",
       "    </tr>\n",
       "    <tr>\n",
       "      <th id=\"T_cde4e_level0_row59\" class=\"row_heading level0 row59\" >59</th>\n",
       "      <td id=\"T_cde4e_row59_col0\" class=\"data row59 col0\" >Fix Imbalance Method</td>\n",
       "      <td id=\"T_cde4e_row59_col1\" class=\"data row59 col1\" >SMOTE</td>\n",
       "    </tr>\n",
       "  </tbody>\n",
       "</table>\n"
      ],
      "text/plain": [
       "<pandas.io.formats.style.Styler at 0x7f4add55c370>"
      ]
     },
     "metadata": {},
     "output_type": "display_data"
    }
   ],
   "source": [
    "from pycaret.classification import *\n",
    "cf = setup(data = final_train_data, target = 'y', pca_method='linear', pca_components=3, silent = True)"
   ]
  },
  {
   "cell_type": "code",
   "execution_count": 38,
   "metadata": {},
   "outputs": [
    {
     "data": {
      "text/html": [
       "<style type=\"text/css\">\n",
       "#T_392b8_ th {\n",
       "  text-align: left;\n",
       "}\n",
       "#T_392b8_row0_col0, #T_392b8_row0_col2, #T_392b8_row0_col3, #T_392b8_row1_col0, #T_392b8_row1_col2, #T_392b8_row1_col3, #T_392b8_row2_col0, #T_392b8_row2_col2, #T_392b8_row2_col3, #T_392b8_row3_col0, #T_392b8_row3_col2, #T_392b8_row3_col3, #T_392b8_row4_col0, #T_392b8_row4_col2, #T_392b8_row4_col3, #T_392b8_row5_col0, #T_392b8_row5_col1, #T_392b8_row5_col2, #T_392b8_row5_col3, #T_392b8_row5_col4, #T_392b8_row5_col5, #T_392b8_row5_col6, #T_392b8_row5_col7, #T_392b8_row6_col0, #T_392b8_row6_col1, #T_392b8_row6_col2, #T_392b8_row6_col3, #T_392b8_row6_col4, #T_392b8_row6_col5, #T_392b8_row6_col6, #T_392b8_row6_col7, #T_392b8_row7_col0, #T_392b8_row7_col1, #T_392b8_row7_col2, #T_392b8_row7_col3, #T_392b8_row7_col4, #T_392b8_row7_col5, #T_392b8_row7_col6, #T_392b8_row7_col7, #T_392b8_row8_col0, #T_392b8_row8_col1, #T_392b8_row8_col3, #T_392b8_row8_col4, #T_392b8_row8_col5, #T_392b8_row8_col6, #T_392b8_row8_col7, #T_392b8_row9_col0, #T_392b8_row9_col1, #T_392b8_row9_col2, #T_392b8_row9_col3, #T_392b8_row9_col4, #T_392b8_row9_col5, #T_392b8_row9_col6, #T_392b8_row9_col7, #T_392b8_row10_col0, #T_392b8_row10_col1, #T_392b8_row10_col2, #T_392b8_row10_col3, #T_392b8_row10_col4, #T_392b8_row10_col5, #T_392b8_row10_col6, #T_392b8_row10_col7, #T_392b8_row11_col0, #T_392b8_row11_col1, #T_392b8_row11_col2, #T_392b8_row11_col3, #T_392b8_row11_col4, #T_392b8_row11_col5, #T_392b8_row11_col6, #T_392b8_row11_col7, #T_392b8_row12_col0, #T_392b8_row12_col1, #T_392b8_row12_col2, #T_392b8_row12_col3, #T_392b8_row12_col4, #T_392b8_row12_col5, #T_392b8_row12_col6, #T_392b8_row12_col7, #T_392b8_row13_col0, #T_392b8_row13_col1, #T_392b8_row13_col2, #T_392b8_row13_col3, #T_392b8_row13_col4, #T_392b8_row13_col5, #T_392b8_row13_col6, #T_392b8_row13_col7, #T_392b8_row14_col0, #T_392b8_row14_col1, #T_392b8_row14_col2, #T_392b8_row14_col4, #T_392b8_row14_col5, #T_392b8_row14_col6, #T_392b8_row14_col7 {\n",
       "  text-align: left;\n",
       "}\n",
       "#T_392b8_row0_col1, #T_392b8_row0_col4, #T_392b8_row0_col5, #T_392b8_row0_col6, #T_392b8_row0_col7, #T_392b8_row1_col1, #T_392b8_row1_col4, #T_392b8_row1_col5, #T_392b8_row1_col6, #T_392b8_row1_col7, #T_392b8_row2_col1, #T_392b8_row2_col4, #T_392b8_row2_col5, #T_392b8_row2_col6, #T_392b8_row2_col7, #T_392b8_row3_col1, #T_392b8_row3_col4, #T_392b8_row3_col5, #T_392b8_row3_col6, #T_392b8_row3_col7, #T_392b8_row4_col1, #T_392b8_row4_col4, #T_392b8_row4_col5, #T_392b8_row4_col6, #T_392b8_row4_col7, #T_392b8_row8_col2, #T_392b8_row14_col3 {\n",
       "  text-align: left;\n",
       "  background-color: yellow;\n",
       "}\n",
       "#T_392b8_row0_col8, #T_392b8_row1_col8, #T_392b8_row2_col8, #T_392b8_row3_col8, #T_392b8_row4_col8, #T_392b8_row5_col8, #T_392b8_row6_col8, #T_392b8_row7_col8, #T_392b8_row8_col8, #T_392b8_row9_col8, #T_392b8_row10_col8, #T_392b8_row11_col8, #T_392b8_row13_col8, #T_392b8_row14_col8 {\n",
       "  text-align: left;\n",
       "  background-color: lightgrey;\n",
       "}\n",
       "#T_392b8_row12_col8 {\n",
       "  text-align: left;\n",
       "  background-color: yellow;\n",
       "  background-color: lightgrey;\n",
       "}\n",
       "</style>\n",
       "<table id=\"T_392b8_\">\n",
       "  <thead>\n",
       "    <tr>\n",
       "      <th class=\"blank level0\" >&nbsp;</th>\n",
       "      <th class=\"col_heading level0 col0\" >Model</th>\n",
       "      <th class=\"col_heading level0 col1\" >Accuracy</th>\n",
       "      <th class=\"col_heading level0 col2\" >AUC</th>\n",
       "      <th class=\"col_heading level0 col3\" >Recall</th>\n",
       "      <th class=\"col_heading level0 col4\" >Prec.</th>\n",
       "      <th class=\"col_heading level0 col5\" >F1</th>\n",
       "      <th class=\"col_heading level0 col6\" >Kappa</th>\n",
       "      <th class=\"col_heading level0 col7\" >MCC</th>\n",
       "      <th class=\"col_heading level0 col8\" >TT (Sec)</th>\n",
       "    </tr>\n",
       "  </thead>\n",
       "  <tbody>\n",
       "    <tr>\n",
       "      <th id=\"T_392b8_level0_row0\" class=\"row_heading level0 row0\" >dt</th>\n",
       "      <td id=\"T_392b8_row0_col0\" class=\"data row0 col0\" >Decision Tree Classifier</td>\n",
       "      <td id=\"T_392b8_row0_col1\" class=\"data row0 col1\" >0.8988</td>\n",
       "      <td id=\"T_392b8_row0_col2\" class=\"data row0 col2\" >0.6178</td>\n",
       "      <td id=\"T_392b8_row0_col3\" class=\"data row0 col3\" >0.2372</td>\n",
       "      <td id=\"T_392b8_row0_col4\" class=\"data row0 col4\" >1.0000</td>\n",
       "      <td id=\"T_392b8_row0_col5\" class=\"data row0 col5\" >0.3782</td>\n",
       "      <td id=\"T_392b8_row0_col6\" class=\"data row0 col6\" >0.3466</td>\n",
       "      <td id=\"T_392b8_row0_col7\" class=\"data row0 col7\" >0.4549</td>\n",
       "      <td id=\"T_392b8_row0_col8\" class=\"data row0 col8\" >2.8530</td>\n",
       "    </tr>\n",
       "    <tr>\n",
       "      <th id=\"T_392b8_level0_row1\" class=\"row_heading level0 row1\" >svm</th>\n",
       "      <td id=\"T_392b8_row1_col0\" class=\"data row1 col0\" >SVM - Linear Kernel</td>\n",
       "      <td id=\"T_392b8_row1_col1\" class=\"data row1 col1\" >0.8988</td>\n",
       "      <td id=\"T_392b8_row1_col2\" class=\"data row1 col2\" >0.0000</td>\n",
       "      <td id=\"T_392b8_row1_col3\" class=\"data row1 col3\" >0.2372</td>\n",
       "      <td id=\"T_392b8_row1_col4\" class=\"data row1 col4\" >1.0000</td>\n",
       "      <td id=\"T_392b8_row1_col5\" class=\"data row1 col5\" >0.3782</td>\n",
       "      <td id=\"T_392b8_row1_col6\" class=\"data row1 col6\" >0.3466</td>\n",
       "      <td id=\"T_392b8_row1_col7\" class=\"data row1 col7\" >0.4549</td>\n",
       "      <td id=\"T_392b8_row1_col8\" class=\"data row1 col8\" >0.2460</td>\n",
       "    </tr>\n",
       "    <tr>\n",
       "      <th id=\"T_392b8_level0_row2\" class=\"row_heading level0 row2\" >ridge</th>\n",
       "      <td id=\"T_392b8_row2_col0\" class=\"data row2 col0\" >Ridge Classifier</td>\n",
       "      <td id=\"T_392b8_row2_col1\" class=\"data row2 col1\" >0.8988</td>\n",
       "      <td id=\"T_392b8_row2_col2\" class=\"data row2 col2\" >0.0000</td>\n",
       "      <td id=\"T_392b8_row2_col3\" class=\"data row2 col3\" >0.2372</td>\n",
       "      <td id=\"T_392b8_row2_col4\" class=\"data row2 col4\" >1.0000</td>\n",
       "      <td id=\"T_392b8_row2_col5\" class=\"data row2 col5\" >0.3782</td>\n",
       "      <td id=\"T_392b8_row2_col6\" class=\"data row2 col6\" >0.3466</td>\n",
       "      <td id=\"T_392b8_row2_col7\" class=\"data row2 col7\" >0.4549</td>\n",
       "      <td id=\"T_392b8_row2_col8\" class=\"data row2 col8\" >0.3690</td>\n",
       "    </tr>\n",
       "    <tr>\n",
       "      <th id=\"T_392b8_level0_row3\" class=\"row_heading level0 row3\" >rf</th>\n",
       "      <td id=\"T_392b8_row3_col0\" class=\"data row3 col0\" >Random Forest Classifier</td>\n",
       "      <td id=\"T_392b8_row3_col1\" class=\"data row3 col1\" >0.8988</td>\n",
       "      <td id=\"T_392b8_row3_col2\" class=\"data row3 col2\" >0.6178</td>\n",
       "      <td id=\"T_392b8_row3_col3\" class=\"data row3 col3\" >0.2372</td>\n",
       "      <td id=\"T_392b8_row3_col4\" class=\"data row3 col4\" >1.0000</td>\n",
       "      <td id=\"T_392b8_row3_col5\" class=\"data row3 col5\" >0.3782</td>\n",
       "      <td id=\"T_392b8_row3_col6\" class=\"data row3 col6\" >0.3466</td>\n",
       "      <td id=\"T_392b8_row3_col7\" class=\"data row3 col7\" >0.4549</td>\n",
       "      <td id=\"T_392b8_row3_col8\" class=\"data row3 col8\" >3.5490</td>\n",
       "    </tr>\n",
       "    <tr>\n",
       "      <th id=\"T_392b8_level0_row4\" class=\"row_heading level0 row4\" >et</th>\n",
       "      <td id=\"T_392b8_row4_col0\" class=\"data row4 col0\" >Extra Trees Classifier</td>\n",
       "      <td id=\"T_392b8_row4_col1\" class=\"data row4 col1\" >0.8988</td>\n",
       "      <td id=\"T_392b8_row4_col2\" class=\"data row4 col2\" >0.6178</td>\n",
       "      <td id=\"T_392b8_row4_col3\" class=\"data row4 col3\" >0.2372</td>\n",
       "      <td id=\"T_392b8_row4_col4\" class=\"data row4 col4\" >1.0000</td>\n",
       "      <td id=\"T_392b8_row4_col5\" class=\"data row4 col5\" >0.3782</td>\n",
       "      <td id=\"T_392b8_row4_col6\" class=\"data row4 col6\" >0.3466</td>\n",
       "      <td id=\"T_392b8_row4_col7\" class=\"data row4 col7\" >0.4549</td>\n",
       "      <td id=\"T_392b8_row4_col8\" class=\"data row4 col8\" >6.7570</td>\n",
       "    </tr>\n",
       "    <tr>\n",
       "      <th id=\"T_392b8_level0_row5\" class=\"row_heading level0 row5\" >knn</th>\n",
       "      <td id=\"T_392b8_row5_col0\" class=\"data row5 col0\" >K Neighbors Classifier</td>\n",
       "      <td id=\"T_392b8_row5_col1\" class=\"data row5 col1\" >0.8769</td>\n",
       "      <td id=\"T_392b8_row5_col2\" class=\"data row5 col2\" >0.6078</td>\n",
       "      <td id=\"T_392b8_row5_col3\" class=\"data row5 col3\" >0.0772</td>\n",
       "      <td id=\"T_392b8_row5_col4\" class=\"data row5 col4\" >0.7667</td>\n",
       "      <td id=\"T_392b8_row5_col5\" class=\"data row5 col5\" >0.1392</td>\n",
       "      <td id=\"T_392b8_row5_col6\" class=\"data row5 col6\" >0.1227</td>\n",
       "      <td id=\"T_392b8_row5_col7\" class=\"data row5 col7\" >0.2234</td>\n",
       "      <td id=\"T_392b8_row5_col8\" class=\"data row5 col8\" >3.3780</td>\n",
       "    </tr>\n",
       "    <tr>\n",
       "      <th id=\"T_392b8_level0_row6\" class=\"row_heading level0 row6\" >ada</th>\n",
       "      <td id=\"T_392b8_row6_col0\" class=\"data row6 col0\" >Ada Boost Classifier</td>\n",
       "      <td id=\"T_392b8_row6_col1\" class=\"data row6 col1\" >0.8769</td>\n",
       "      <td id=\"T_392b8_row6_col2\" class=\"data row6 col2\" >0.5547</td>\n",
       "      <td id=\"T_392b8_row6_col3\" class=\"data row6 col3\" >0.0722</td>\n",
       "      <td id=\"T_392b8_row6_col4\" class=\"data row6 col4\" >0.9000</td>\n",
       "      <td id=\"T_392b8_row6_col5\" class=\"data row6 col5\" >0.1327</td>\n",
       "      <td id=\"T_392b8_row6_col6\" class=\"data row6 col6\" >0.1177</td>\n",
       "      <td id=\"T_392b8_row6_col7\" class=\"data row6 col7\" >0.2358</td>\n",
       "      <td id=\"T_392b8_row6_col8\" class=\"data row6 col8\" >1.0360</td>\n",
       "    </tr>\n",
       "    <tr>\n",
       "      <th id=\"T_392b8_level0_row7\" class=\"row_heading level0 row7\" >gbc</th>\n",
       "      <td id=\"T_392b8_row7_col0\" class=\"data row7 col0\" >Gradient Boosting Classifier</td>\n",
       "      <td id=\"T_392b8_row7_col1\" class=\"data row7 col1\" >0.8721</td>\n",
       "      <td id=\"T_392b8_row7_col2\" class=\"data row7 col2\" >0.5935</td>\n",
       "      <td id=\"T_392b8_row7_col3\" class=\"data row7 col3\" >0.0360</td>\n",
       "      <td id=\"T_392b8_row7_col4\" class=\"data row7 col4\" >0.8000</td>\n",
       "      <td id=\"T_392b8_row7_col5\" class=\"data row7 col5\" >0.0686</td>\n",
       "      <td id=\"T_392b8_row7_col6\" class=\"data row7 col6\" >0.0602</td>\n",
       "      <td id=\"T_392b8_row7_col7\" class=\"data row7 col7\" >0.1557</td>\n",
       "      <td id=\"T_392b8_row7_col8\" class=\"data row7 col8\" >3.6870</td>\n",
       "    </tr>\n",
       "    <tr>\n",
       "      <th id=\"T_392b8_level0_row8\" class=\"row_heading level0 row8\" >lr</th>\n",
       "      <td id=\"T_392b8_row8_col0\" class=\"data row8 col0\" >Logistic Regression</td>\n",
       "      <td id=\"T_392b8_row8_col1\" class=\"data row8 col1\" >0.8674</td>\n",
       "      <td id=\"T_392b8_row8_col2\" class=\"data row8 col2\" >0.6729</td>\n",
       "      <td id=\"T_392b8_row8_col3\" class=\"data row8 col3\" >0.0000</td>\n",
       "      <td id=\"T_392b8_row8_col4\" class=\"data row8 col4\" >0.0000</td>\n",
       "      <td id=\"T_392b8_row8_col5\" class=\"data row8 col5\" >0.0000</td>\n",
       "      <td id=\"T_392b8_row8_col6\" class=\"data row8 col6\" >0.0000</td>\n",
       "      <td id=\"T_392b8_row8_col7\" class=\"data row8 col7\" >0.0000</td>\n",
       "      <td id=\"T_392b8_row8_col8\" class=\"data row8 col8\" >0.7210</td>\n",
       "    </tr>\n",
       "    <tr>\n",
       "      <th id=\"T_392b8_level0_row9\" class=\"row_heading level0 row9\" >qda</th>\n",
       "      <td id=\"T_392b8_row9_col0\" class=\"data row9 col0\" >Quadratic Discriminant Analysis</td>\n",
       "      <td id=\"T_392b8_row9_col1\" class=\"data row9 col1\" >0.8674</td>\n",
       "      <td id=\"T_392b8_row9_col2\" class=\"data row9 col2\" >0.0000</td>\n",
       "      <td id=\"T_392b8_row9_col3\" class=\"data row9 col3\" >0.0000</td>\n",
       "      <td id=\"T_392b8_row9_col4\" class=\"data row9 col4\" >0.0000</td>\n",
       "      <td id=\"T_392b8_row9_col5\" class=\"data row9 col5\" >0.0000</td>\n",
       "      <td id=\"T_392b8_row9_col6\" class=\"data row9 col6\" >0.0000</td>\n",
       "      <td id=\"T_392b8_row9_col7\" class=\"data row9 col7\" >0.0000</td>\n",
       "      <td id=\"T_392b8_row9_col8\" class=\"data row9 col8\" >8.9930</td>\n",
       "    </tr>\n",
       "    <tr>\n",
       "      <th id=\"T_392b8_level0_row10\" class=\"row_heading level0 row10\" >xgboost</th>\n",
       "      <td id=\"T_392b8_row10_col0\" class=\"data row10 col0\" >Extreme Gradient Boosting</td>\n",
       "      <td id=\"T_392b8_row10_col1\" class=\"data row10 col1\" >0.8674</td>\n",
       "      <td id=\"T_392b8_row10_col2\" class=\"data row10 col2\" >0.5199</td>\n",
       "      <td id=\"T_392b8_row10_col3\" class=\"data row10 col3\" >0.0000</td>\n",
       "      <td id=\"T_392b8_row10_col4\" class=\"data row10 col4\" >0.0000</td>\n",
       "      <td id=\"T_392b8_row10_col5\" class=\"data row10 col5\" >0.0000</td>\n",
       "      <td id=\"T_392b8_row10_col6\" class=\"data row10 col6\" >0.0000</td>\n",
       "      <td id=\"T_392b8_row10_col7\" class=\"data row10 col7\" >0.0000</td>\n",
       "      <td id=\"T_392b8_row10_col8\" class=\"data row10 col8\" >23.4030</td>\n",
       "    </tr>\n",
       "    <tr>\n",
       "      <th id=\"T_392b8_level0_row11\" class=\"row_heading level0 row11\" >lightgbm</th>\n",
       "      <td id=\"T_392b8_row11_col0\" class=\"data row11 col0\" >Light Gradient Boosting Machine</td>\n",
       "      <td id=\"T_392b8_row11_col1\" class=\"data row11 col1\" >0.8674</td>\n",
       "      <td id=\"T_392b8_row11_col2\" class=\"data row11 col2\" >0.5146</td>\n",
       "      <td id=\"T_392b8_row11_col3\" class=\"data row11 col3\" >0.0000</td>\n",
       "      <td id=\"T_392b8_row11_col4\" class=\"data row11 col4\" >0.0000</td>\n",
       "      <td id=\"T_392b8_row11_col5\" class=\"data row11 col5\" >0.0000</td>\n",
       "      <td id=\"T_392b8_row11_col6\" class=\"data row11 col6\" >0.0000</td>\n",
       "      <td id=\"T_392b8_row11_col7\" class=\"data row11 col7\" >0.0000</td>\n",
       "      <td id=\"T_392b8_row11_col8\" class=\"data row11 col8\" >1.1890</td>\n",
       "    </tr>\n",
       "    <tr>\n",
       "      <th id=\"T_392b8_level0_row12\" class=\"row_heading level0 row12\" >dummy</th>\n",
       "      <td id=\"T_392b8_row12_col0\" class=\"data row12 col0\" >Dummy Classifier</td>\n",
       "      <td id=\"T_392b8_row12_col1\" class=\"data row12 col1\" >0.8674</td>\n",
       "      <td id=\"T_392b8_row12_col2\" class=\"data row12 col2\" >0.5000</td>\n",
       "      <td id=\"T_392b8_row12_col3\" class=\"data row12 col3\" >0.0000</td>\n",
       "      <td id=\"T_392b8_row12_col4\" class=\"data row12 col4\" >0.0000</td>\n",
       "      <td id=\"T_392b8_row12_col5\" class=\"data row12 col5\" >0.0000</td>\n",
       "      <td id=\"T_392b8_row12_col6\" class=\"data row12 col6\" >0.0000</td>\n",
       "      <td id=\"T_392b8_row12_col7\" class=\"data row12 col7\" >0.0000</td>\n",
       "      <td id=\"T_392b8_row12_col8\" class=\"data row12 col8\" >0.1060</td>\n",
       "    </tr>\n",
       "    <tr>\n",
       "      <th id=\"T_392b8_level0_row13\" class=\"row_heading level0 row13\" >lda</th>\n",
       "      <td id=\"T_392b8_row13_col0\" class=\"data row13 col0\" >Linear Discriminant Analysis</td>\n",
       "      <td id=\"T_392b8_row13_col1\" class=\"data row13 col1\" >0.5368</td>\n",
       "      <td id=\"T_392b8_row13_col2\" class=\"data row13 col2\" >0.3560</td>\n",
       "      <td id=\"T_392b8_row13_col3\" class=\"data row13 col3\" >0.1237</td>\n",
       "      <td id=\"T_392b8_row13_col4\" class=\"data row13 col4\" >0.5000</td>\n",
       "      <td id=\"T_392b8_row13_col5\" class=\"data row13 col5\" >0.1966</td>\n",
       "      <td id=\"T_392b8_row13_col6\" class=\"data row13 col6\" >0.1803</td>\n",
       "      <td id=\"T_392b8_row13_col7\" class=\"data row13 col7\" >0.2339</td>\n",
       "      <td id=\"T_392b8_row13_col8\" class=\"data row13 col8\" >9.4030</td>\n",
       "    </tr>\n",
       "    <tr>\n",
       "      <th id=\"T_392b8_level0_row14\" class=\"row_heading level0 row14\" >nb</th>\n",
       "      <td id=\"T_392b8_row14_col0\" class=\"data row14 col0\" >Naive Bayes</td>\n",
       "      <td id=\"T_392b8_row14_col1\" class=\"data row14 col1\" >0.2602</td>\n",
       "      <td id=\"T_392b8_row14_col2\" class=\"data row14 col2\" >0.5724</td>\n",
       "      <td id=\"T_392b8_row14_col3\" class=\"data row14 col3\" >0.9974</td>\n",
       "      <td id=\"T_392b8_row14_col4\" class=\"data row14 col4\" >0.1518</td>\n",
       "      <td id=\"T_392b8_row14_col5\" class=\"data row14 col5\" >0.2635</td>\n",
       "      <td id=\"T_392b8_row14_col6\" class=\"data row14 col6\" >0.0431</td>\n",
       "      <td id=\"T_392b8_row14_col7\" class=\"data row14 col7\" >0.1469</td>\n",
       "      <td id=\"T_392b8_row14_col8\" class=\"data row14 col8\" >0.1640</td>\n",
       "    </tr>\n",
       "  </tbody>\n",
       "</table>\n"
      ],
      "text/plain": [
       "<pandas.io.formats.style.Styler at 0x7f4ac9a686d0>"
      ]
     },
     "metadata": {},
     "output_type": "display_data"
    },
    {
     "data": {
      "text/plain": [
       "DecisionTreeClassifier(ccp_alpha=0.0, class_weight=None, criterion='gini',\n",
       "                       max_depth=None, max_features=None, max_leaf_nodes=None,\n",
       "                       min_impurity_decrease=0.0, min_impurity_split=None,\n",
       "                       min_samples_leaf=1, min_samples_split=2,\n",
       "                       min_weight_fraction_leaf=0.0, presort='deprecated',\n",
       "                       random_state=2798, splitter='best')"
      ]
     },
     "execution_count": 38,
     "metadata": {},
     "output_type": "execute_result"
    }
   ],
   "source": [
    "compare_models()"
   ]
  },
  {
   "cell_type": "code",
   "execution_count": 42,
   "metadata": {},
   "outputs": [
    {
     "data": {
      "text/html": [
       "<style type=\"text/css\">\n",
       "#T_257de_row10_col0, #T_257de_row10_col1, #T_257de_row10_col2, #T_257de_row10_col3, #T_257de_row10_col4, #T_257de_row10_col5, #T_257de_row10_col6 {\n",
       "  background: yellow;\n",
       "}\n",
       "</style>\n",
       "<table id=\"T_257de_\">\n",
       "  <thead>\n",
       "    <tr>\n",
       "      <th class=\"blank level0\" >&nbsp;</th>\n",
       "      <th class=\"col_heading level0 col0\" >Accuracy</th>\n",
       "      <th class=\"col_heading level0 col1\" >AUC</th>\n",
       "      <th class=\"col_heading level0 col2\" >Recall</th>\n",
       "      <th class=\"col_heading level0 col3\" >Prec.</th>\n",
       "      <th class=\"col_heading level0 col4\" >F1</th>\n",
       "      <th class=\"col_heading level0 col5\" >Kappa</th>\n",
       "      <th class=\"col_heading level0 col6\" >MCC</th>\n",
       "    </tr>\n",
       "  </thead>\n",
       "  <tbody>\n",
       "    <tr>\n",
       "      <th id=\"T_257de_level0_row0\" class=\"row_heading level0 row0\" >0</th>\n",
       "      <td id=\"T_257de_row0_col0\" class=\"data row0 col0\" >0.8976</td>\n",
       "      <td id=\"T_257de_row0_col1\" class=\"data row0 col1\" >0.6053</td>\n",
       "      <td id=\"T_257de_row0_col2\" class=\"data row0 col2\" >0.2105</td>\n",
       "      <td id=\"T_257de_row0_col3\" class=\"data row0 col3\" >1.0000</td>\n",
       "      <td id=\"T_257de_row0_col4\" class=\"data row0 col4\" >0.3478</td>\n",
       "      <td id=\"T_257de_row0_col5\" class=\"data row0 col5\" >0.3170</td>\n",
       "      <td id=\"T_257de_row0_col6\" class=\"data row0 col6\" >0.4340</td>\n",
       "    </tr>\n",
       "    <tr>\n",
       "      <th id=\"T_257de_level0_row1\" class=\"row_heading level0 row1\" >1</th>\n",
       "      <td id=\"T_257de_row1_col0\" class=\"data row1 col0\" >0.9044</td>\n",
       "      <td id=\"T_257de_row1_col1\" class=\"data row1 col1\" >0.6316</td>\n",
       "      <td id=\"T_257de_row1_col2\" class=\"data row1 col2\" >0.2632</td>\n",
       "      <td id=\"T_257de_row1_col3\" class=\"data row1 col3\" >1.0000</td>\n",
       "      <td id=\"T_257de_row1_col4\" class=\"data row1 col4\" >0.4167</td>\n",
       "      <td id=\"T_257de_row1_col5\" class=\"data row1 col5\" >0.3833</td>\n",
       "      <td id=\"T_257de_row1_col6\" class=\"data row1 col6\" >0.4870</td>\n",
       "    </tr>\n",
       "    <tr>\n",
       "      <th id=\"T_257de_level0_row2\" class=\"row_heading level0 row2\" >2</th>\n",
       "      <td id=\"T_257de_row2_col0\" class=\"data row2 col0\" >0.8942</td>\n",
       "      <td id=\"T_257de_row2_col1\" class=\"data row2 col1\" >0.5921</td>\n",
       "      <td id=\"T_257de_row2_col2\" class=\"data row2 col2\" >0.1842</td>\n",
       "      <td id=\"T_257de_row2_col3\" class=\"data row2 col3\" >1.0000</td>\n",
       "      <td id=\"T_257de_row2_col4\" class=\"data row2 col4\" >0.3111</td>\n",
       "      <td id=\"T_257de_row2_col5\" class=\"data row2 col5\" >0.2821</td>\n",
       "      <td id=\"T_257de_row2_col6\" class=\"data row2 col6\" >0.4053</td>\n",
       "    </tr>\n",
       "    <tr>\n",
       "      <th id=\"T_257de_level0_row3\" class=\"row_heading level0 row3\" >3</th>\n",
       "      <td id=\"T_257de_row3_col0\" class=\"data row3 col0\" >0.9113</td>\n",
       "      <td id=\"T_257de_row3_col1\" class=\"data row3 col1\" >0.6579</td>\n",
       "      <td id=\"T_257de_row3_col2\" class=\"data row3 col2\" >0.3158</td>\n",
       "      <td id=\"T_257de_row3_col3\" class=\"data row3 col3\" >1.0000</td>\n",
       "      <td id=\"T_257de_row3_col4\" class=\"data row3 col4\" >0.4800</td>\n",
       "      <td id=\"T_257de_row3_col5\" class=\"data row3 col5\" >0.4455</td>\n",
       "      <td id=\"T_257de_row3_col6\" class=\"data row3 col6\" >0.5353</td>\n",
       "    </tr>\n",
       "    <tr>\n",
       "      <th id=\"T_257de_level0_row4\" class=\"row_heading level0 row4\" >4</th>\n",
       "      <td id=\"T_257de_row4_col0\" class=\"data row4 col0\" >0.9044</td>\n",
       "      <td id=\"T_257de_row4_col1\" class=\"data row4 col1\" >0.6410</td>\n",
       "      <td id=\"T_257de_row4_col2\" class=\"data row4 col2\" >0.2821</td>\n",
       "      <td id=\"T_257de_row4_col3\" class=\"data row4 col3\" >1.0000</td>\n",
       "      <td id=\"T_257de_row4_col4\" class=\"data row4 col4\" >0.4400</td>\n",
       "      <td id=\"T_257de_row4_col5\" class=\"data row4 col5\" >0.4052</td>\n",
       "      <td id=\"T_257de_row4_col6\" class=\"data row4 col6\" >0.5040</td>\n",
       "    </tr>\n",
       "    <tr>\n",
       "      <th id=\"T_257de_level0_row5\" class=\"row_heading level0 row5\" >5</th>\n",
       "      <td id=\"T_257de_row5_col0\" class=\"data row5 col0\" >0.8938</td>\n",
       "      <td id=\"T_257de_row5_col1\" class=\"data row5 col1\" >0.5921</td>\n",
       "      <td id=\"T_257de_row5_col2\" class=\"data row5 col2\" >0.1842</td>\n",
       "      <td id=\"T_257de_row5_col3\" class=\"data row5 col3\" >1.0000</td>\n",
       "      <td id=\"T_257de_row5_col4\" class=\"data row5 col4\" >0.3111</td>\n",
       "      <td id=\"T_257de_row5_col5\" class=\"data row5 col5\" >0.2820</td>\n",
       "      <td id=\"T_257de_row5_col6\" class=\"data row5 col6\" >0.4052</td>\n",
       "    </tr>\n",
       "    <tr>\n",
       "      <th id=\"T_257de_level0_row6\" class=\"row_heading level0 row6\" >6</th>\n",
       "      <td id=\"T_257de_row6_col0\" class=\"data row6 col0\" >0.9178</td>\n",
       "      <td id=\"T_257de_row6_col1\" class=\"data row6 col1\" >0.6842</td>\n",
       "      <td id=\"T_257de_row6_col2\" class=\"data row6 col2\" >0.3684</td>\n",
       "      <td id=\"T_257de_row6_col3\" class=\"data row6 col3\" >1.0000</td>\n",
       "      <td id=\"T_257de_row6_col4\" class=\"data row6 col4\" >0.5385</td>\n",
       "      <td id=\"T_257de_row6_col5\" class=\"data row6 col5\" >0.5037</td>\n",
       "      <td id=\"T_257de_row6_col6\" class=\"data row6 col6\" >0.5802</td>\n",
       "    </tr>\n",
       "    <tr>\n",
       "      <th id=\"T_257de_level0_row7\" class=\"row_heading level0 row7\" >7</th>\n",
       "      <td id=\"T_257de_row7_col0\" class=\"data row7 col0\" >0.9178</td>\n",
       "      <td id=\"T_257de_row7_col1\" class=\"data row7 col1\" >0.6842</td>\n",
       "      <td id=\"T_257de_row7_col2\" class=\"data row7 col2\" >0.3684</td>\n",
       "      <td id=\"T_257de_row7_col3\" class=\"data row7 col3\" >1.0000</td>\n",
       "      <td id=\"T_257de_row7_col4\" class=\"data row7 col4\" >0.5385</td>\n",
       "      <td id=\"T_257de_row7_col5\" class=\"data row7 col5\" >0.5037</td>\n",
       "      <td id=\"T_257de_row7_col6\" class=\"data row7 col6\" >0.5802</td>\n",
       "    </tr>\n",
       "    <tr>\n",
       "      <th id=\"T_257de_level0_row8\" class=\"row_heading level0 row8\" >8</th>\n",
       "      <td id=\"T_257de_row8_col0\" class=\"data row8 col0\" >0.9075</td>\n",
       "      <td id=\"T_257de_row8_col1\" class=\"data row8 col1\" >0.6671</td>\n",
       "      <td id=\"T_257de_row8_col2\" class=\"data row8 col2\" >0.3421</td>\n",
       "      <td id=\"T_257de_row8_col3\" class=\"data row8 col3\" >0.8667</td>\n",
       "      <td id=\"T_257de_row8_col4\" class=\"data row8 col4\" >0.4906</td>\n",
       "      <td id=\"T_257de_row8_col5\" class=\"data row8 col5\" >0.4501</td>\n",
       "      <td id=\"T_257de_row8_col6\" class=\"data row8 col6\" >0.5094</td>\n",
       "    </tr>\n",
       "    <tr>\n",
       "      <th id=\"T_257de_level0_row9\" class=\"row_heading level0 row9\" >9</th>\n",
       "      <td id=\"T_257de_row9_col0\" class=\"data row9 col0\" >0.9007</td>\n",
       "      <td id=\"T_257de_row9_col1\" class=\"data row9 col1\" >0.6184</td>\n",
       "      <td id=\"T_257de_row9_col2\" class=\"data row9 col2\" >0.2368</td>\n",
       "      <td id=\"T_257de_row9_col3\" class=\"data row9 col3\" >1.0000</td>\n",
       "      <td id=\"T_257de_row9_col4\" class=\"data row9 col4\" >0.3830</td>\n",
       "      <td id=\"T_257de_row9_col5\" class=\"data row9 col5\" >0.3506</td>\n",
       "      <td id=\"T_257de_row9_col6\" class=\"data row9 col6\" >0.4611</td>\n",
       "    </tr>\n",
       "    <tr>\n",
       "      <th id=\"T_257de_level0_row10\" class=\"row_heading level0 row10\" >Mean</th>\n",
       "      <td id=\"T_257de_row10_col0\" class=\"data row10 col0\" >0.9050</td>\n",
       "      <td id=\"T_257de_row10_col1\" class=\"data row10 col1\" >0.6374</td>\n",
       "      <td id=\"T_257de_row10_col2\" class=\"data row10 col2\" >0.2756</td>\n",
       "      <td id=\"T_257de_row10_col3\" class=\"data row10 col3\" >0.9867</td>\n",
       "      <td id=\"T_257de_row10_col4\" class=\"data row10 col4\" >0.4257</td>\n",
       "      <td id=\"T_257de_row10_col5\" class=\"data row10 col5\" >0.3923</td>\n",
       "      <td id=\"T_257de_row10_col6\" class=\"data row10 col6\" >0.4902</td>\n",
       "    </tr>\n",
       "    <tr>\n",
       "      <th id=\"T_257de_level0_row11\" class=\"row_heading level0 row11\" >SD</th>\n",
       "      <td id=\"T_257de_row11_col0\" class=\"data row11 col0\" >0.0083</td>\n",
       "      <td id=\"T_257de_row11_col1\" class=\"data row11 col1\" >0.0335</td>\n",
       "      <td id=\"T_257de_row11_col2\" class=\"data row11 col2\" >0.0678</td>\n",
       "      <td id=\"T_257de_row11_col3\" class=\"data row11 col3\" >0.0400</td>\n",
       "      <td id=\"T_257de_row11_col4\" class=\"data row11 col4\" >0.0819</td>\n",
       "      <td id=\"T_257de_row11_col5\" class=\"data row11 col5\" >0.0793</td>\n",
       "      <td id=\"T_257de_row11_col6\" class=\"data row11 col6\" >0.0610</td>\n",
       "    </tr>\n",
       "  </tbody>\n",
       "</table>\n"
      ],
      "text/plain": [
       "<pandas.io.formats.style.Styler at 0x7f4ac8689520>"
      ]
     },
     "metadata": {},
     "output_type": "display_data"
    }
   ],
   "source": [
    "dt = create_model('dt')"
   ]
  },
  {
   "cell_type": "markdown",
   "metadata": {},
   "source": [
    "# Prediction"
   ]
  },
  {
   "cell_type": "code",
   "execution_count": 44,
   "metadata": {},
   "outputs": [],
   "source": [
    "prediction = predict_model(dt, data=final_test_data)"
   ]
  },
  {
   "cell_type": "code",
   "execution_count": 45,
   "metadata": {},
   "outputs": [
    {
     "name": "stdout",
     "output_type": "stream",
     "text": [
      "accuracy:  0.9002153625269204\n"
     ]
    },
    {
     "name": "stderr",
     "output_type": "stream",
     "text": [
      "/home/rghaf/anaconda3/lib/python3.8/site-packages/sklearn/metrics/_classification.py:846: RuntimeWarning: invalid value encountered in double_scalars\n",
      "  mcc = cov_ytyp / np.sqrt(cov_ytyt * cov_ypyp)\n",
      "/home/rghaf/anaconda3/lib/python3.8/site-packages/sklearn/discriminant_analysis.py:743: RuntimeWarning: divide by zero encountered in log\n",
      "  u = np.asarray([np.sum(np.log(s)) for s in self.scalings_])\n",
      "/home/rghaf/anaconda3/lib/python3.8/site-packages/sklearn/metrics/_classification.py:1221: UndefinedMetricWarning: Precision is ill-defined and being set to 0.0 due to no predicted samples. Use `zero_division` parameter to control this behavior.\n",
      "  _warn_prf(average, modifier, msg_start, len(result))\n",
      "/home/rghaf/anaconda3/lib/python3.8/site-packages/sklearn/metrics/_classification.py:846: RuntimeWarning: invalid value encountered in double_scalars\n",
      "  mcc = cov_ytyp / np.sqrt(cov_ytyt * cov_ypyp)\n",
      "/home/rghaf/anaconda3/lib/python3.8/site-packages/sklearn/metrics/_classification.py:1221: UndefinedMetricWarning: Precision is ill-defined and being set to 0.0 due to no predicted samples. Use `zero_division` parameter to control this behavior.\n",
      "  _warn_prf(average, modifier, msg_start, len(result))\n",
      "/home/rghaf/anaconda3/lib/python3.8/site-packages/sklearn/metrics/_classification.py:846: RuntimeWarning: invalid value encountered in double_scalars\n",
      "  mcc = cov_ytyp / np.sqrt(cov_ytyt * cov_ypyp)\n",
      "/home/rghaf/anaconda3/lib/python3.8/site-packages/xgboost/sklearn.py:1224: UserWarning: The use of label encoder in XGBClassifier is deprecated and will be removed in a future release. To remove this warning, do the following: 1) Pass option use_label_encoder=False when constructing XGBClassifier object; and 2) Encode your labels (y) as integers starting with 0, i.e. 0, 1, 2, ..., [num_class - 1].\n",
      "  warnings.warn(label_encoder_deprecation_msg, UserWarning)\n",
      "/home/rghaf/anaconda3/lib/python3.8/site-packages/sklearn/metrics/_classification.py:1221: UndefinedMetricWarning: Precision is ill-defined and being set to 0.0 due to no predicted samples. Use `zero_division` parameter to control this behavior.\n",
      "  _warn_prf(average, modifier, msg_start, len(result))\n",
      "/home/rghaf/anaconda3/lib/python3.8/site-packages/sklearn/metrics/_classification.py:846: RuntimeWarning: invalid value encountered in double_scalars\n",
      "  mcc = cov_ytyp / np.sqrt(cov_ytyt * cov_ypyp)\n",
      "/home/rghaf/anaconda3/lib/python3.8/site-packages/xgboost/sklearn.py:1224: UserWarning: The use of label encoder in XGBClassifier is deprecated and will be removed in a future release. To remove this warning, do the following: 1) Pass option use_label_encoder=False when constructing XGBClassifier object; and 2) Encode your labels (y) as integers starting with 0, i.e. 0, 1, 2, ..., [num_class - 1].\n",
      "  warnings.warn(label_encoder_deprecation_msg, UserWarning)\n",
      "/home/rghaf/anaconda3/lib/python3.8/site-packages/sklearn/metrics/_classification.py:1221: UndefinedMetricWarning: Precision is ill-defined and being set to 0.0 due to no predicted samples. Use `zero_division` parameter to control this behavior.\n",
      "  _warn_prf(average, modifier, msg_start, len(result))\n",
      "/home/rghaf/anaconda3/lib/python3.8/site-packages/sklearn/metrics/_classification.py:846: RuntimeWarning: invalid value encountered in double_scalars\n",
      "  mcc = cov_ytyp / np.sqrt(cov_ytyt * cov_ypyp)\n",
      "/home/rghaf/anaconda3/lib/python3.8/site-packages/xgboost/sklearn.py:1224: UserWarning: The use of label encoder in XGBClassifier is deprecated and will be removed in a future release. To remove this warning, do the following: 1) Pass option use_label_encoder=False when constructing XGBClassifier object; and 2) Encode your labels (y) as integers starting with 0, i.e. 0, 1, 2, ..., [num_class - 1].\n",
      "  warnings.warn(label_encoder_deprecation_msg, UserWarning)\n",
      "/home/rghaf/anaconda3/lib/python3.8/site-packages/sklearn/metrics/_classification.py:1221: UndefinedMetricWarning: Precision is ill-defined and being set to 0.0 due to no predicted samples. Use `zero_division` parameter to control this behavior.\n",
      "  _warn_prf(average, modifier, msg_start, len(result))\n",
      "/home/rghaf/anaconda3/lib/python3.8/site-packages/sklearn/metrics/_classification.py:846: RuntimeWarning: invalid value encountered in double_scalars\n",
      "  mcc = cov_ytyp / np.sqrt(cov_ytyt * cov_ypyp)\n",
      "/home/rghaf/anaconda3/lib/python3.8/site-packages/sklearn/metrics/_classification.py:1221: UndefinedMetricWarning: Precision is ill-defined and being set to 0.0 due to no predicted samples. Use `zero_division` parameter to control this behavior.\n",
      "  _warn_prf(average, modifier, msg_start, len(result))\n",
      "/home/rghaf/anaconda3/lib/python3.8/site-packages/sklearn/metrics/_classification.py:846: RuntimeWarning: invalid value encountered in double_scalars\n",
      "  mcc = cov_ytyp / np.sqrt(cov_ytyt * cov_ypyp)\n",
      "/home/rghaf/anaconda3/lib/python3.8/site-packages/sklearn/metrics/_classification.py:1221: UndefinedMetricWarning: Precision is ill-defined and being set to 0.0 due to no predicted samples. Use `zero_division` parameter to control this behavior.\n",
      "  _warn_prf(average, modifier, msg_start, len(result))\n",
      "/home/rghaf/anaconda3/lib/python3.8/site-packages/sklearn/metrics/_classification.py:846: RuntimeWarning: invalid value encountered in double_scalars\n",
      "  mcc = cov_ytyp / np.sqrt(cov_ytyt * cov_ypyp)\n",
      "/home/rghaf/anaconda3/lib/python3.8/site-packages/sklearn/utils/deprecation.py:101: FutureWarning: The outputs_2d_ attribute is deprecated in version 0.22 and will be removed in version 0.24. It is equivalent to n_outputs_ > 1.\n",
      "  warnings.warn(msg, category=FutureWarning)\n",
      "/home/rghaf/anaconda3/lib/python3.8/site-packages/sklearn/metrics/_classification.py:1221: UndefinedMetricWarning: Precision is ill-defined and being set to 0.0 due to no predicted samples. Use `zero_division` parameter to control this behavior.\n",
      "  _warn_prf(average, modifier, msg_start, len(result))\n",
      "/home/rghaf/anaconda3/lib/python3.8/site-packages/sklearn/metrics/_classification.py:846: RuntimeWarning: invalid value encountered in double_scalars\n",
      "  mcc = cov_ytyp / np.sqrt(cov_ytyt * cov_ypyp)\n",
      "/home/rghaf/anaconda3/lib/python3.8/site-packages/sklearn/utils/deprecation.py:101: FutureWarning: The outputs_2d_ attribute is deprecated in version 0.22 and will be removed in version 0.24. It is equivalent to n_outputs_ > 1.\n",
      "  warnings.warn(msg, category=FutureWarning)\n",
      "/home/rghaf/anaconda3/lib/python3.8/site-packages/sklearn/metrics/_classification.py:1221: UndefinedMetricWarning: Precision is ill-defined and being set to 0.0 due to no predicted samples. Use `zero_division` parameter to control this behavior.\n",
      "  _warn_prf(average, modifier, msg_start, len(result))\n",
      "/home/rghaf/anaconda3/lib/python3.8/site-packages/sklearn/metrics/_classification.py:846: RuntimeWarning: invalid value encountered in double_scalars\n",
      "  mcc = cov_ytyp / np.sqrt(cov_ytyt * cov_ypyp)\n",
      "/home/rghaf/anaconda3/lib/python3.8/site-packages/sklearn/utils/deprecation.py:101: FutureWarning: The outputs_2d_ attribute is deprecated in version 0.22 and will be removed in version 0.24. It is equivalent to n_outputs_ > 1.\n",
      "  warnings.warn(msg, category=FutureWarning)\n",
      "/home/rghaf/anaconda3/lib/python3.8/site-packages/sklearn/metrics/_classification.py:1221: UndefinedMetricWarning: Precision is ill-defined and being set to 0.0 due to no predicted samples. Use `zero_division` parameter to control this behavior.\n",
      "  _warn_prf(average, modifier, msg_start, len(result))\n",
      "/home/rghaf/anaconda3/lib/python3.8/site-packages/sklearn/metrics/_classification.py:846: RuntimeWarning: invalid value encountered in double_scalars\n",
      "  mcc = cov_ytyp / np.sqrt(cov_ytyt * cov_ypyp)\n",
      "/home/rghaf/anaconda3/lib/python3.8/site-packages/sklearn/metrics/_classification.py:846: RuntimeWarning: invalid value encountered in double_scalars\n",
      "  mcc = cov_ytyp / np.sqrt(cov_ytyt * cov_ypyp)\n",
      "/home/rghaf/anaconda3/lib/python3.8/site-packages/sklearn/metrics/_classification.py:1221: UndefinedMetricWarning: Precision is ill-defined and being set to 0.0 due to no predicted samples. Use `zero_division` parameter to control this behavior.\n",
      "  _warn_prf(average, modifier, msg_start, len(result))\n",
      "/home/rghaf/anaconda3/lib/python3.8/site-packages/sklearn/metrics/_classification.py:846: RuntimeWarning: invalid value encountered in double_scalars\n",
      "  mcc = cov_ytyp / np.sqrt(cov_ytyt * cov_ypyp)\n",
      "/home/rghaf/anaconda3/lib/python3.8/site-packages/xgboost/sklearn.py:1224: UserWarning: The use of label encoder in XGBClassifier is deprecated and will be removed in a future release. To remove this warning, do the following: 1) Pass option use_label_encoder=False when constructing XGBClassifier object; and 2) Encode your labels (y) as integers starting with 0, i.e. 0, 1, 2, ..., [num_class - 1].\n",
      "  warnings.warn(label_encoder_deprecation_msg, UserWarning)\n",
      "/home/rghaf/anaconda3/lib/python3.8/site-packages/sklearn/metrics/_classification.py:1221: UndefinedMetricWarning: Precision is ill-defined and being set to 0.0 due to no predicted samples. Use `zero_division` parameter to control this behavior.\n",
      "  _warn_prf(average, modifier, msg_start, len(result))\n",
      "/home/rghaf/anaconda3/lib/python3.8/site-packages/sklearn/metrics/_classification.py:846: RuntimeWarning: invalid value encountered in double_scalars\n",
      "  mcc = cov_ytyp / np.sqrt(cov_ytyt * cov_ypyp)\n",
      "/home/rghaf/anaconda3/lib/python3.8/site-packages/xgboost/sklearn.py:1224: UserWarning: The use of label encoder in XGBClassifier is deprecated and will be removed in a future release. To remove this warning, do the following: 1) Pass option use_label_encoder=False when constructing XGBClassifier object; and 2) Encode your labels (y) as integers starting with 0, i.e. 0, 1, 2, ..., [num_class - 1].\n",
      "  warnings.warn(label_encoder_deprecation_msg, UserWarning)\n",
      "/home/rghaf/anaconda3/lib/python3.8/site-packages/sklearn/metrics/_classification.py:1221: UndefinedMetricWarning: Precision is ill-defined and being set to 0.0 due to no predicted samples. Use `zero_division` parameter to control this behavior.\n",
      "  _warn_prf(average, modifier, msg_start, len(result))\n",
      "/home/rghaf/anaconda3/lib/python3.8/site-packages/sklearn/metrics/_classification.py:846: RuntimeWarning: invalid value encountered in double_scalars\n",
      "  mcc = cov_ytyp / np.sqrt(cov_ytyt * cov_ypyp)\n",
      "/home/rghaf/anaconda3/lib/python3.8/site-packages/sklearn/metrics/_classification.py:1221: UndefinedMetricWarning: Precision is ill-defined and being set to 0.0 due to no predicted samples. Use `zero_division` parameter to control this behavior.\n",
      "  _warn_prf(average, modifier, msg_start, len(result))\n",
      "/home/rghaf/anaconda3/lib/python3.8/site-packages/sklearn/metrics/_classification.py:846: RuntimeWarning: invalid value encountered in double_scalars\n",
      "  mcc = cov_ytyp / np.sqrt(cov_ytyt * cov_ypyp)\n",
      "/home/rghaf/anaconda3/lib/python3.8/site-packages/sklearn/metrics/_classification.py:1221: UndefinedMetricWarning: Precision is ill-defined and being set to 0.0 due to no predicted samples. Use `zero_division` parameter to control this behavior.\n",
      "  _warn_prf(average, modifier, msg_start, len(result))\n",
      "/home/rghaf/anaconda3/lib/python3.8/site-packages/sklearn/metrics/_classification.py:846: RuntimeWarning: invalid value encountered in double_scalars\n",
      "  mcc = cov_ytyp / np.sqrt(cov_ytyt * cov_ypyp)\n",
      "/home/rghaf/anaconda3/lib/python3.8/site-packages/sklearn/metrics/_classification.py:1221: UndefinedMetricWarning: Precision is ill-defined and being set to 0.0 due to no predicted samples. Use `zero_division` parameter to control this behavior.\n",
      "  _warn_prf(average, modifier, msg_start, len(result))\n",
      "/home/rghaf/anaconda3/lib/python3.8/site-packages/sklearn/metrics/_classification.py:846: RuntimeWarning: invalid value encountered in double_scalars\n",
      "  mcc = cov_ytyp / np.sqrt(cov_ytyt * cov_ypyp)\n",
      "/home/rghaf/anaconda3/lib/python3.8/site-packages/sklearn/utils/deprecation.py:101: FutureWarning: The outputs_2d_ attribute is deprecated in version 0.22 and will be removed in version 0.24. It is equivalent to n_outputs_ > 1.\n",
      "  warnings.warn(msg, category=FutureWarning)\n",
      "/home/rghaf/anaconda3/lib/python3.8/site-packages/sklearn/metrics/_classification.py:1221: UndefinedMetricWarning: Precision is ill-defined and being set to 0.0 due to no predicted samples. Use `zero_division` parameter to control this behavior.\n",
      "  _warn_prf(average, modifier, msg_start, len(result))\n",
      "/home/rghaf/anaconda3/lib/python3.8/site-packages/sklearn/metrics/_classification.py:846: RuntimeWarning: invalid value encountered in double_scalars\n",
      "  mcc = cov_ytyp / np.sqrt(cov_ytyt * cov_ypyp)\n",
      "/home/rghaf/anaconda3/lib/python3.8/site-packages/sklearn/utils/deprecation.py:101: FutureWarning: The outputs_2d_ attribute is deprecated in version 0.22 and will be removed in version 0.24. It is equivalent to n_outputs_ > 1.\n",
      "  warnings.warn(msg, category=FutureWarning)\n",
      "/home/rghaf/anaconda3/lib/python3.8/site-packages/sklearn/metrics/_classification.py:1221: UndefinedMetricWarning: Precision is ill-defined and being set to 0.0 due to no predicted samples. Use `zero_division` parameter to control this behavior.\n",
      "  _warn_prf(average, modifier, msg_start, len(result))\n",
      "/home/rghaf/anaconda3/lib/python3.8/site-packages/sklearn/metrics/_classification.py:846: RuntimeWarning: invalid value encountered in double_scalars\n",
      "  mcc = cov_ytyp / np.sqrt(cov_ytyt * cov_ypyp)\n"
     ]
    }
   ],
   "source": [
    "from sklearn.metrics import accuracy_score\n",
    "accuracy = accuracy_score(final_test_data[\"y\"], prediction[\"Label\"])\n",
    "print(\"accuracy: \", accuracy)"
   ]
  }
 ],
 "metadata": {
  "colab": {
   "authorship_tag": "ABX9TyPm/G+xdjIUHSCGOLcS2KaG",
   "collapsed_sections": [],
   "mount_file_id": "1LemmTdLBkeqMxwleh3rToQYev--Tojya",
   "name": "NLPSpamFiltering.ipynb",
   "provenance": []
  },
  "kernelspec": {
   "display_name": "Python 3 (ipykernel)",
   "language": "python",
   "name": "python3"
  },
  "language_info": {
   "codemirror_mode": {
    "name": "ipython",
    "version": 3
   },
   "file_extension": ".py",
   "mimetype": "text/x-python",
   "name": "python",
   "nbconvert_exporter": "python",
   "pygments_lexer": "ipython3",
   "version": "3.8.8"
  }
 },
 "nbformat": 4,
 "nbformat_minor": 1
}
